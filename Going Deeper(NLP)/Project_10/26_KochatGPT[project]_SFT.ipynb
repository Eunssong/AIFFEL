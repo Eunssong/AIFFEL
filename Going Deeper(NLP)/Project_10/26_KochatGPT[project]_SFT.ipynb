{
 "cells": [
  {
   "cell_type": "markdown",
   "id": "3946baf7",
   "metadata": {},
   "source": [
    "공부 내용\n",
    "- Supervised Fine Tuning\n",
    "- Reward Model의 ranking algorithm 및 loss fuction 설계 원리\n",
    "- 언어모델을 강화학습하기 위한 방법론"
   ]
  },
  {
   "cell_type": "markdown",
   "id": "a4508e22",
   "metadata": {},
   "source": [
    "cloud shell에서 아래와 같이 KochatGPT를 설치    \n",
    "    cd aiffel    \n",
    "    git clone https://github.com/airobotlab/KoChatGPT     \n",
    "    cd KoChatGPT/colossalai_ChatGPT_230319/    \n",
    "    pip install .    "
   ]
  },
  {
   "cell_type": "code",
   "execution_count": 1,
   "id": "13978b9d",
   "metadata": {},
   "outputs": [
    {
     "name": "stdout",
     "output_type": "stream",
     "text": [
      "Torch version:1.12.1\n",
      "Cuda version: 11.3\n",
      "transformers                  4.28.0\n"
     ]
    }
   ],
   "source": [
    "import torch\n",
    "\n",
    "print(\"Torch version:{}\".format(torch.__version__)) # Torch version:1.12.1\n",
    "print(\"Cuda version: {}\".format(torch.version.cuda)) # Cuda version: 11.3\n",
    "!pip list | grep transformers # transformers 4.28.0"
   ]
  },
  {
   "cell_type": "markdown",
   "id": "e8d7c240",
   "metadata": {},
   "source": [
    "#  Base model and Dataset for RLHF"
   ]
  },
  {
   "cell_type": "markdown",
   "id": "fc1affe1",
   "metadata": {},
   "source": [
    " backbone 모델로 사용할 KoGPT-2의 성능 확인하기  \n",
    " 허깅페이스의 transformers를 사용하여 토크나이저와 모델을 불러오기 "
   ]
  },
  {
   "cell_type": "code",
   "execution_count": 2,
   "id": "29b83910",
   "metadata": {},
   "outputs": [
    {
     "data": {
      "application/vnd.jupyter.widget-view+json": {
       "model_id": "75484988c2a848608849a37211527824",
       "version_major": 2,
       "version_minor": 0
      },
      "text/plain": [
       "Downloading config.json:   0%|          | 0.00/1.00k [00:00<?, ?B/s]"
      ]
     },
     "metadata": {},
     "output_type": "display_data"
    },
    {
     "data": {
      "application/vnd.jupyter.widget-view+json": {
       "model_id": "93aceee58b20435980bda96c94eea334",
       "version_major": 2,
       "version_minor": 0
      },
      "text/plain": [
       "Downloading tokenizer.json:   0%|          | 0.00/2.83M [00:00<?, ?B/s]"
      ]
     },
     "metadata": {},
     "output_type": "display_data"
    },
    {
     "name": "stderr",
     "output_type": "stream",
     "text": [
      "Special tokens have been added in the vocabulary, make sure the associated word embeddings are fine-tuned or trained.\n"
     ]
    },
    {
     "data": {
      "application/vnd.jupyter.widget-view+json": {
       "model_id": "f555e32463584ae8813a93c2e43a17e8",
       "version_major": 2,
       "version_minor": 0
      },
      "text/plain": [
       "Downloading pytorch_model.bin:   0%|          | 0.00/513M [00:00<?, ?B/s]"
      ]
     },
     "metadata": {},
     "output_type": "display_data"
    }
   ],
   "source": [
    "import torch\n",
    "from transformers import AutoTokenizer, AutoModelForCausalLM\n",
    "import pandas as pd\n",
    "import numpy\n",
    "\n",
    "device = \"cuda\" if torch.cuda.is_available() else \"cpu\"\n",
    "model_name = \"skt/kogpt2-base-v2\"\n",
    "tokenizer = AutoTokenizer.from_pretrained(model_name)\n",
    "model = AutoModelForCausalLM.from_pretrained(model_name).to(device)"
   ]
  },
  {
   "cell_type": "markdown",
   "id": "92343cb5",
   "metadata": {},
   "source": [
    "모델의 토크나이저가 입력받아 처리할 수 있는 최대 토큰 수를 확인하기"
   ]
  },
  {
   "cell_type": "code",
   "execution_count": 3,
   "id": "86f46114",
   "metadata": {},
   "outputs": [
    {
     "data": {
      "text/plain": [
       "{'gpt2': 1024,\n",
       " 'gpt2-medium': 1024,\n",
       " 'gpt2-large': 1024,\n",
       " 'gpt2-xl': 1024,\n",
       " 'distilgpt2': 1024}"
      ]
     },
     "execution_count": 3,
     "metadata": {},
     "output_type": "execute_result"
    }
   ],
   "source": [
    "tokenizer.max_model_input_sizes"
   ]
  },
  {
   "cell_type": "markdown",
   "id": "22527e39",
   "metadata": {},
   "source": [
    "kogpt-2는 어떻게 토크나이징을 하는지 확인하기"
   ]
  },
  {
   "cell_type": "code",
   "execution_count": 4,
   "id": "f8f84eeb",
   "metadata": {},
   "outputs": [],
   "source": [
    "input_txt = \"바람도 없는 공중에 수직의 파문을 내이며 고요히 떨어지는 오동잎은 누구의 발자취 입니까.\""
   ]
  },
  {
   "cell_type": "code",
   "execution_count": 5,
   "id": "790fed8f",
   "metadata": {},
   "outputs": [],
   "source": [
    "tokens = tokenizer(input_txt).tokens()\n",
    "input_ids = tokenizer(input_txt, return_tensors=\"pt\")[\"input_ids\"].numpy()"
   ]
  },
  {
   "cell_type": "code",
   "execution_count": 6,
   "id": "00169d2b",
   "metadata": {},
   "outputs": [
    {
     "data": {
      "text/html": [
       "<div>\n",
       "<style scoped>\n",
       "    .dataframe tbody tr th:only-of-type {\n",
       "        vertical-align: middle;\n",
       "    }\n",
       "\n",
       "    .dataframe tbody tr th {\n",
       "        vertical-align: top;\n",
       "    }\n",
       "\n",
       "    .dataframe thead th {\n",
       "        text-align: right;\n",
       "    }\n",
       "</style>\n",
       "<table border=\"1\" class=\"dataframe\">\n",
       "  <thead>\n",
       "    <tr style=\"text-align: right;\">\n",
       "      <th></th>\n",
       "      <th>0</th>\n",
       "      <th>1</th>\n",
       "      <th>2</th>\n",
       "      <th>3</th>\n",
       "      <th>4</th>\n",
       "      <th>5</th>\n",
       "      <th>6</th>\n",
       "      <th>7</th>\n",
       "      <th>8</th>\n",
       "      <th>9</th>\n",
       "      <th>10</th>\n",
       "      <th>11</th>\n",
       "      <th>12</th>\n",
       "      <th>13</th>\n",
       "      <th>14</th>\n",
       "      <th>15</th>\n",
       "      <th>16</th>\n",
       "      <th>17</th>\n",
       "      <th>18</th>\n",
       "      <th>19</th>\n",
       "      <th>20</th>\n",
       "      <th>21</th>\n",
       "      <th>22</th>\n",
       "    </tr>\n",
       "  </thead>\n",
       "  <tbody>\n",
       "    <tr>\n",
       "      <th>kogpt-2_tokens</th>\n",
       "      <td>▁바람</td>\n",
       "      <td>도</td>\n",
       "      <td>▁없는</td>\n",
       "      <td>▁공중에</td>\n",
       "      <td>▁수직</td>\n",
       "      <td>의</td>\n",
       "      <td>▁파</td>\n",
       "      <td>문을</td>\n",
       "      <td>▁내</td>\n",
       "      <td>이며</td>\n",
       "      <td>▁고</td>\n",
       "      <td>요</td>\n",
       "      <td>히</td>\n",
       "      <td>▁떨어지는</td>\n",
       "      <td>▁오동</td>\n",
       "      <td>잎은</td>\n",
       "      <td>▁누</td>\n",
       "      <td>구의</td>\n",
       "      <td>▁발자</td>\n",
       "      <td>취</td>\n",
       "      <td>▁입</td>\n",
       "      <td>니까</td>\n",
       "      <td>.</td>\n",
       "    </tr>\n",
       "    <tr>\n",
       "      <th>Input_IDs</th>\n",
       "      <td>10891</td>\n",
       "      <td>7235</td>\n",
       "      <td>9712</td>\n",
       "      <td>49207</td>\n",
       "      <td>14438</td>\n",
       "      <td>8143</td>\n",
       "      <td>9203</td>\n",
       "      <td>9941</td>\n",
       "      <td>9094</td>\n",
       "      <td>9639</td>\n",
       "      <td>9065</td>\n",
       "      <td>8084</td>\n",
       "      <td>8811</td>\n",
       "      <td>21215</td>\n",
       "      <td>34769</td>\n",
       "      <td>19985</td>\n",
       "      <td>9669</td>\n",
       "      <td>10139</td>\n",
       "      <td>21626</td>\n",
       "      <td>8408</td>\n",
       "      <td>9241</td>\n",
       "      <td>23775</td>\n",
       "      <td>389</td>\n",
       "    </tr>\n",
       "  </tbody>\n",
       "</table>\n",
       "</div>"
      ],
      "text/plain": [
       "                   0     1     2      3      4     5     6     7     8     9   \\\n",
       "kogpt-2_tokens    ▁바람     도   ▁없는   ▁공중에    ▁수직     의    ▁파    문을    ▁내    이며   \n",
       "Input_IDs       10891  7235  9712  49207  14438  8143  9203  9941  9094  9639   \n",
       "\n",
       "                  10    11    12     13     14     15    16     17     18  \\\n",
       "kogpt-2_tokens    ▁고     요     히  ▁떨어지는    ▁오동     잎은    ▁누     구의    ▁발자   \n",
       "Input_IDs       9065  8084  8811  21215  34769  19985  9669  10139  21626   \n",
       "\n",
       "                  19    20     21   22  \n",
       "kogpt-2_tokens     취    ▁입     니까    .  \n",
       "Input_IDs       8408  9241  23775  389  "
      ]
     },
     "execution_count": 6,
     "metadata": {},
     "output_type": "execute_result"
    }
   ],
   "source": [
    "pd.options.display.max_columns = 40\n",
    "pd.options.display.max_rows = 60\n",
    "df = pd.DataFrame([tokens, input_ids[0]], index=[\"kogpt-2_tokens\", \"Input_IDs\"])\n",
    "df"
   ]
  },
  {
   "cell_type": "markdown",
   "id": "c6aa3361",
   "metadata": {},
   "source": [
    "디코딩 성능도 확인하기   \n",
    "시퀀스 반복 출력은 그리디 서치 디코딩시 발견되는 전형적인 현상이다."
   ]
  },
  {
   "cell_type": "code",
   "execution_count": 7,
   "id": "7d1989b8",
   "metadata": {},
   "outputs": [
    {
     "name": "stdout",
     "output_type": "stream",
     "text": [
      "바람도 없는 공중에 수직의 파문을 내이며 고요히 떨어지는 오동잎은 누구의 발자취 입니까.'\n",
      "\"그렇다면 그건 무슨 소리요?\"\n",
      "\"그건 무슨 소리요?\"\n",
      "\"그건 무슨 소리요?\"\n",
      "\"그건 무슨 소리요?\"\n",
      "\"그건 무슨 소리요?\"\n",
      "\"그건 무슨 소리요?\"\n",
      "\"그건 무슨 소리요?\"\n",
      "\"그건 무슨 소리요?\"\n",
      "\"그건 무슨 소리요?\"\n",
      "\"그건 무슨 소리요?\"\n",
      "\"그건 무슨 소리요?\"\n",
      "\"그건 무슨 소리요?\"\n",
      "\"그건 무슨 소리\n"
     ]
    }
   ],
   "source": [
    "max_length=128\n",
    "input_ids = tokenizer(input_txt, return_tensors=\"pt\")[\"input_ids\"].to(device)\n",
    "output_greedy = model.generate(input_ids, \n",
    "                               max_length=max_length, \n",
    "                               do_sample=False)\n",
    "print(tokenizer.decode(output_greedy[0]))"
   ]
  },
  {
   "cell_type": "markdown",
   "id": "df04d59e",
   "metadata": {},
   "source": [
    "이번엔 빔 서치 디코딩을 사용하고 n-gram 패널티까지 부과해보기  \n",
    "입력 시퀀스와 별 상관 없어 보이는 긴 문단이 생성이 되는 것을 확인 할 수 있음"
   ]
  },
  {
   "cell_type": "code",
   "execution_count": 8,
   "id": "c5b64b5d",
   "metadata": {},
   "outputs": [
    {
     "name": "stdout",
     "output_type": "stream",
     "text": [
      "바람도 없는 공중에 수직의 파문을 내이며 고요히 떨어지는 오동잎은 누구의 발자취 입니까.'\n",
      "\"그렇지 않습니다.\"\n",
      "\"어떻게 된 일입니까?\"\n",
      "그녀는 고개를 갸웃거렸다.\n",
      "\"아니, 그게 무슨 말씀이신지 모르겠습니다만.\"\n",
      "\"무슨 말씀인지 알 수가 없군요.\"\n",
      "아무런 대답도 하지 않은 채 그녀는 고개를 끄덕였다.\n",
      "\"그래, 알았어.\"\n",
      "그녀의 눈에서 눈물이 주르륵 흘러내렸다.\n",
      "그녀가 다시 입을 열었다.\n",
      "\"정말 죄송합니다, 고마워요, 고맙습니다\"\n",
      "\"\n"
     ]
    }
   ],
   "source": [
    "input_ids = tokenizer(input_txt, return_tensors=\"pt\")[\"input_ids\"].to(device)\n",
    "output_beam = model.generate(input_ids, max_length=max_length, num_beams=10, no_repeat_ngram_size=2,\n",
    "                             do_sample=False)\n",
    "print(tokenizer.decode(output_beam[0]))"
   ]
  },
  {
   "cell_type": "markdown",
   "id": "36a69043",
   "metadata": {},
   "source": [
    "샘플링 기법까지 추가해 보기"
   ]
  },
  {
   "cell_type": "code",
   "execution_count": 9,
   "id": "9f1cd57a",
   "metadata": {},
   "outputs": [
    {
     "name": "stdout",
     "output_type": "stream",
     "text": [
      "바람도 없는 공중에 수직의 파문을 내이며 고요히 떨어지는 오동잎은 누구의 발자취 입니까.'\n",
      "\"하하, 그게 뭔 말씀이세요?\"\n",
      "\"어떻게 해서 그런지 모르겠구만. 어쩐 일인지 오늘은 그런 게 없는 것 같습니다.\"\n",
      "그는 고개를 저으며 말했다.\n",
      "\"뭐라고 하는 것이 더 좋을지.\"\n",
      "\"아! 그걸 누가 알면 어떻게 알겠습니까.\"\n",
      "그는 눈을 깜박이며 그 말에 귀를 기울이는 것 같았다.\n",
      "\"허허. 이 녀석 좀 봐줘. 나하고 상관없는 일로 오해를 사겠어.\"\n",
      "그의 말에 그는 고개를 끄\n"
     ]
    }
   ],
   "source": [
    "output_beam = model.generate(input_ids, max_length=max_length, num_beams=7, no_repeat_ngram_size=2,\n",
    "                             do_sample=True, temperature=2.0, top_k=50)\n",
    "print(tokenizer.decode(output_beam[0]))"
   ]
  },
  {
   "cell_type": "markdown",
   "id": "7a9bd9a4",
   "metadata": {},
   "source": [
    "top_p 샘플링 기법도 사용해보기"
   ]
  },
  {
   "cell_type": "code",
   "execution_count": 10,
   "id": "80378a22",
   "metadata": {},
   "outputs": [
    {
     "name": "stdout",
     "output_type": "stream",
     "text": [
      "바람도 없는 공중에 수직의 파문을 내이며 고요히 떨어지는 오동잎은 누구의 발자취 입니까.'\n",
      "\"그런데 무슨 일입니까?\"\n",
      "\"글쎄요, 그게 무슨 말씀이십니까, 선생님.\"\n",
      "\"선생님, 저는 선생님의 말씀을 듣고 싶지 않습니다. 선생님이 저에게 말씀하실까요? 선생님은 저를 잘 알고 계실 겁니다. 선생님을 잘 알지도 못하시는 분이시니까요.\"\n",
      "선생님은 고개를 끄덕였다.\n",
      "\"아니오. 그건 말씀드리지 않으셔도 됩니다.\"\n",
      "그녀는 고개를 저었다.\n",
      "\"그래\n"
     ]
    }
   ],
   "source": [
    "output_beam = model.generate(input_ids, max_length=max_length, num_beams=7, no_repeat_ngram_size=2,\n",
    "                             do_sample=True, top_p=0.90)\n",
    "print(tokenizer.decode(output_beam[0]))"
   ]
  },
  {
   "cell_type": "markdown",
   "id": "6f8cc6b1",
   "metadata": {},
   "source": [
    "베이스라인 모델로 사용한 kogpt-2의 일반적인 성능을 확인해봤으니\n",
    "구체적인 instruction과 prompting을 사용해 어떻게 디코딩을 해내는지도 확인해보면 좋겠다"
   ]
  },
  {
   "cell_type": "markdown",
   "id": "94a3793f",
   "metadata": {},
   "source": [
    "## 데이터 셋 확인\n",
    "SFT를 시도할 initial 모델에 쓸 데이터셋을 살펴보기"
   ]
  },
  {
   "cell_type": "code",
   "execution_count": 45,
   "id": "ff2a5522",
   "metadata": {},
   "outputs": [
    {
     "name": "stdout",
     "output_type": "stream",
     "text": [
      "12000\n"
     ]
    },
    {
     "data": {
      "text/plain": [
       "[{'prompt': '불고기용 고기 한우에요?',\n",
       "  'completion': \"'저는 인공지능 챗봇이며, 직접적으로 식품에 관한 정보를 가지고 있지 않습니다. 하지만 일반적으로 불고기용 고기는 한우, 쇠고기, 돼지고기 등 다양한 종류의 고기를 사용합니다. 하지만 한우는 대표적인 고급 육류로 알려져 있기 때문에, 한우를 사용하는 경우도 많습니다. 알러지나 개별 건강 상태에 따라 다를 수 있으니 충분한 정보 수집 후에 선택해 주시기 바랍니다.\",\n",
       "  'tokens': 193},\n",
       " {'prompt': '쓰던 앱이 유료로 전환됐어',\n",
       "  'completion': \"'어떤 앱인지 모르기 때문에 정확한 답변을 드리기 어렵습니다. 하지만, 일반적으로 유료 전환된 앱은 기존 무료 앱에서 추가적인 기능이나 서비스를 제공하는 경우가 많습니다. 이 경우, 유료 전환 이전 가격이 매우 저렴하거나 무료인 경우가 많으므로, 앱을 계속 사용하려면 추가적인 비용을 지불해야 할 수 있습니다. 하지만, 유료 전환 이후에는 기존 사용자 또는 새로운 사용자 모두가 추가 기능과 높은 품질의 서비스를 이용할 수 있게 됩니다. 따라서, 앱 개발자는 유료 모델로 전환함으로써 앱의 수익을 증가시키고 더 나은 서비스를 제공할 수 있습니다.\",\n",
       "  'tokens': 288},\n",
       " {'prompt': '여친이랑 다툼',\n",
       "  'completion': \"'저는 인공지능이기 때문에 여친과의 다툼에 대해서는 조언을 드릴 수는 없습니다. 하지만 다투게 되면 상대방의 말을 경청하는 태도와 서로의 감정을 존중하는 것이 중요합니다. 논리적이고 차분한 대화를 통해 문제를 해결해보세요. 그리고 서로를 이해하고 서로의 의견을 수용하는 것이 중요합니다.\",\n",
       "  'tokens': 153}]"
      ]
     },
     "execution_count": 45,
     "metadata": {},
     "output_type": "execute_result"
    }
   ],
   "source": [
    "import json \n",
    "data_path_1_SFT = '/aiffel/KoChatGPT/data_kochatgpt/kochatgpt_1_SFT.jsonl' \n",
    "with open(data_path_1_SFT, \"r\", encoding='utf-8-sig') as json_file:\n",
    "    list_data_dict_SFT = json.load(json_file)\n",
    "\n",
    "print(len(list_data_dict_SFT))\n",
    "list_data_dict_SFT[:3]"
   ]
  },
  {
   "cell_type": "code",
   "execution_count": 46,
   "id": "ea3783e0",
   "metadata": {},
   "outputs": [
    {
     "name": "stdout",
     "output_type": "stream",
     "text": [
      "텍스트의 최소 길이 : 0\n",
      "텍스트의 최대 길이 : 295\n",
      "텍스트의 평균 길이 : 22.180583333333335\n",
      "요약의 최소 길이 : 4\n",
      "요약의 최대 길이 : 1553\n",
      "요약의 평균 길이 : 144.10725\n"
     ]
    },
    {
     "data": {
      "image/png": "[encoded data removed]",
      "text/plain": [
       "<Figure size 432x288 with 2 Axes>"
      ]
     },
     "metadata": {
      "needs_background": "light"
     },
     "output_type": "display_data"
    },
    {
     "data": {
      "image/png": "[encoded data removed]",
      "text/plain": [
       "<Figure size 432x288 with 1 Axes>"
      ]
     },
     "metadata": {
      "needs_background": "light"
     },
     "output_type": "display_data"
    },
    {
     "data": {
      "image/png": "[encoded data removed]",
      "text/plain": [
       "<Figure size 432x288 with 1 Axes>"
      ]
     },
     "metadata": {
      "needs_background": "light"
     },
     "output_type": "display_data"
    }
   ],
   "source": [
    "# 길이 분포 출력\n",
    "import matplotlib.pyplot as plt\n",
    "import numpy as np\n",
    "\n",
    "prompt_len =[len(item['prompt']) for item in list_data_dict_SFT]\n",
    "completion_len = [len(item['completion']) for item in list_data_dict_SFT]\n",
    "\n",
    "print('텍스트의 최소 길이 : {}'.format(np.min(prompt_len)))\n",
    "print('텍스트의 최대 길이 : {}'.format(np.max(prompt_len)))\n",
    "print('텍스트의 평균 길이 : {}'.format(np.mean(prompt_len)))\n",
    "print('요약의 최소 길이 : {}'.format(np.min(completion_len)))\n",
    "print('요약의 최대 길이 : {}'.format(np.max(completion_len)))\n",
    "print('요약의 평균 길이 : {}'.format(np.mean(completion_len)))\n",
    "\n",
    "plt.subplot(1,2,1)\n",
    "plt.boxplot(prompt_len)\n",
    "plt.title('prompt')\n",
    "plt.subplot(1,2,2)\n",
    "plt.boxplot(completion_len)\n",
    "plt.title('completion')\n",
    "plt.tight_layout()\n",
    "plt.show()\n",
    "\n",
    "plt.title('prompt')\n",
    "plt.hist(prompt_len, bins = 40)\n",
    "plt.xlabel('length of samples')\n",
    "plt.ylabel('number of samples')\n",
    "plt.show()\n",
    "\n",
    "plt.title('completion')\n",
    "plt.hist(completion_len, bins = 40)\n",
    "plt.xlabel('length of samples')\n",
    "plt.ylabel('number of samples')\n",
    "plt.show()"
   ]
  },
  {
   "cell_type": "code",
   "execution_count": null,
   "id": "82ba9ab1",
   "metadata": {},
   "outputs": [],
   "source": [
    "item['prompt'] for item in list_data_dict_SFT"
   ]
  },
  {
   "cell_type": "code",
   "execution_count": 52,
   "id": "010bd6c8",
   "metadata": {},
   "outputs": [
    {
     "name": "stdout",
     "output_type": "stream",
     "text": [
      "헉\n",
      "휴\n",
      "후\n",
      "네\n",
      "음\n"
     ]
    }
   ],
   "source": [
    "def check_sentence_with_length(raw, length):\n",
    "    count = 0\n",
    "    \n",
    "    for sen in raw:\n",
    "        if len(sen) == length:\n",
    "            print(sen)\n",
    "            count += 1\n",
    "            if count > 100: return\n",
    "\n",
    "check_sentence_with_length([item['prompt'] for item in list_data_dict_SFT], 1)"
   ]
  },
  {
   "cell_type": "code",
   "execution_count": 57,
   "id": "8922f10b",
   "metadata": {},
   "outputs": [
    {
     "name": "stdout",
     "output_type": "stream",
     "text": [
      "\n",
      "\n",
      "\n"
     ]
    }
   ],
   "source": [
    "check_sentence_with_length([item['prompt'] for item in list_data_dict_SFT], 0)"
   ]
  },
  {
   "cell_type": "code",
   "execution_count": 53,
   "id": "c10a542b",
   "metadata": {},
   "outputs": [
    {
     "data": {
      "text/plain": [
       "[2976, 4217, 5811, 7080, 11045]"
      ]
     },
     "execution_count": 53,
     "metadata": {},
     "output_type": "execute_result"
    }
   ],
   "source": [
    "def find_indices_with_length(raw, length):\n",
    "    indices = []\n",
    "    for i, sen in enumerate(raw):\n",
    "        if len(sen) == length:\n",
    "            indices.append(i)\n",
    "    return indices\n",
    "\n",
    "find_indices_with_length([item['prompt'] for item in list_data_dict_SFT], 1)"
   ]
  },
  {
   "cell_type": "code",
   "execution_count": 62,
   "id": "e8fc8c07",
   "metadata": {},
   "outputs": [
    {
     "data": {
      "text/plain": [
       "{'prompt': '음',\n",
       " 'completion': \"'죄송합니다, 이전에 질문하신 내용이 불분명하여 대답을 드리지 못하였습니다. 더 자세한 내용을 알려주시면 최대한 빠르고 정확하게 답변 드리도록 하겠습니다. 감사합니다.\",\n",
       " 'tokens': 96}"
      ]
     },
     "execution_count": 62,
     "metadata": {},
     "output_type": "execute_result"
    }
   ],
   "source": [
    "list_data_dict_SFT[11045]"
   ]
  },
  {
   "cell_type": "code",
   "execution_count": 54,
   "id": "ac42d4ba",
   "metadata": {},
   "outputs": [
    {
     "data": {
      "text/plain": [
       "[1983, 4793, 8222]"
      ]
     },
     "execution_count": 54,
     "metadata": {},
     "output_type": "execute_result"
    }
   ],
   "source": [
    "find_indices_with_length([item['prompt'] for item in list_data_dict_SFT], 0)"
   ]
  },
  {
   "cell_type": "code",
   "execution_count": 59,
   "id": "b3804b72",
   "metadata": {},
   "outputs": [
    {
     "data": {
      "text/plain": [
       "{'prompt': '',\n",
       " 'completion': \"'Sorry, as an AI language model, I need more information about what you are asking. Please provide me with more context so that I can assist you better.\",\n",
       " 'tokens': 40}"
      ]
     },
     "execution_count": 59,
     "metadata": {},
     "output_type": "execute_result"
    }
   ],
   "source": [
    "list_data_dict_SFT[1983]"
   ]
  },
  {
   "cell_type": "code",
   "execution_count": 60,
   "id": "1ddaba93",
   "metadata": {},
   "outputs": [
    {
     "data": {
      "text/plain": [
       "{'prompt': '',\n",
       " 'completion': \"'As an AI language model, I do not have a physical body or consciousness, so I do not experience emotions in the same way humans do. However, I am designed to understand and respond appropriately to emotional language and can provide empathetic responses to help simulate human-like interactions.\",\n",
       " 'tokens': 63}"
      ]
     },
     "execution_count": 60,
     "metadata": {},
     "output_type": "execute_result"
    }
   ],
   "source": [
    "list_data_dict_SFT[4793]"
   ]
  },
  {
   "cell_type": "code",
   "execution_count": 56,
   "id": "18106df1",
   "metadata": {
    "scrolled": true
   },
   "outputs": [],
   "source": [
    "def remove_data_at_indices(data, indices_to_remove):\n",
    "    # 인덱스를 기반으로 데이터 삭제\n",
    "    remaining_data = [data[i] for i in range(len(data)) if i not in indices_to_remove]\n",
    "    return remaining_data"
   ]
  },
  {
   "cell_type": "code",
   "execution_count": 63,
   "id": "85d01ff7",
   "metadata": {},
   "outputs": [
    {
     "data": {
      "text/plain": [
       "11992"
      ]
     },
     "execution_count": 63,
     "metadata": {},
     "output_type": "execute_result"
    }
   ],
   "source": [
    "list_data_dict_SFT = remove_data_at_indices(list_data_dict_SFT, [1983, 4793, 8222, 2976, 4217, 5811, 7080, 11045])\n",
    "len(list_data_dict_SFT)"
   ]
  },
  {
   "cell_type": "markdown",
   "id": "bd890efb",
   "metadata": {},
   "source": [
    "데이터의 개수가 12000에서 11992로 감소했다. "
   ]
  },
  {
   "cell_type": "code",
   "execution_count": null,
   "id": "6ca46a6f",
   "metadata": {},
   "outputs": [],
   "source": []
  },
  {
   "cell_type": "markdown",
   "id": "a0b7b671",
   "metadata": {},
   "source": [
    "# Supervised Fine-Tuning"
   ]
  },
  {
   "cell_type": "markdown",
   "id": "21ad5363",
   "metadata": {},
   "source": [
    "## SFT\n",
    " kogpt-2를 instruction dataset으로 SFT를 진행해보기"
   ]
  },
  {
   "cell_type": "code",
   "execution_count": 66,
   "id": "8b37cf34",
   "metadata": {},
   "outputs": [],
   "source": [
    "import os\n",
    "os.environ[\"CUDA_VISIBLE_DEVICES\"] = \"0\"\n",
    "import torch\n",
    "import torch.nn as nn\n",
    "from torch.utils.data import Dataset\n",
    "from torch.optim import Adam\n",
    "from datasets import load_dataset\n",
    "import transformers\n",
    "from transformers import AutoTokenizer, AutoModelForCausalLM, pipeline\n",
    "from transformers import Trainer, TrainingArguments\n",
    "from copy import deepcopy\n",
    "import copy\n",
    "import logging\n",
    "import json\n",
    "from dataclasses import dataclass"
   ]
  },
  {
   "cell_type": "markdown",
   "id": "3c852d3d",
   "metadata": {},
   "source": [
    "모델과 토크나이저를 불러오기"
   ]
  },
  {
   "cell_type": "code",
   "execution_count": 67,
   "id": "367e6e53",
   "metadata": {},
   "outputs": [
    {
     "name": "stdout",
     "output_type": "stream",
     "text": [
      "GPT2TokenizerFast(name_or_path='skt/kogpt2-base-v2', vocab_size=51200, model_max_length=512, is_fast=True, padding_side='right', truncation_side='right', special_tokens={'bos_token': '</s>', 'eos_token': '</s>', 'unk_token': '</s>', 'pad_token': '</s>'}, clean_up_tokenization_spaces=True)\n"
     ]
    }
   ],
   "source": [
    "model = AutoModelForCausalLM.from_pretrained('skt/kogpt2-base-v2')\n",
    "tokenizer = AutoTokenizer.from_pretrained(\n",
    "    'skt/kogpt2-base-v2', bos_token='</s>', eos_token='</s>', unk_token='</s>', pad_token='</s>',\n",
    "    padding_side=\"right\",\n",
    "    model_max_length=512,\n",
    ")\n",
    "\n",
    "print(tokenizer)"
   ]
  },
  {
   "cell_type": "markdown",
   "id": "dfbcf921",
   "metadata": {},
   "source": [
    "모델 인퍼런스 단계에서 사용할 prompt 딕셔너리 템플릿과 SFT 데이터셋 클래스를 정의하기"
   ]
  },
  {
   "cell_type": "code",
   "execution_count": 68,
   "id": "d558efee",
   "metadata": {},
   "outputs": [],
   "source": [
    "from typing import Optional, Dict, Sequence\n",
    "\n",
    "# Sequence-to-Sequence 모델을 학습하기 위한 데이터셋 클래스 정의\n",
    "class SFT_dataset(Dataset): # Dataset 클래스를 상속받아 정의\n",
    "\n",
    "    def __init__(self, data_path_1_SFT: str, tokenizer: transformers.PreTrainedTokenizer, verbose=False):\n",
    "        super(SFT_dataset, self).__init__()\n",
    "        \n",
    "        # 데이터를 로드하는데 필요한 로그 및 패턴을 설정\n",
    "        logging.warning(\"Loading data...\")\n",
    "\n",
    "        pattern_instruction = 'prompt'  # instruction\n",
    "        pattern_output = 'completion'  # response\n",
    "        \n",
    "        '''\n",
    "        # JSON 파일을 열고 데이터를 로드\n",
    "        data_path_1_SFT = '/aiffel/KoChatGPT/data_kochatgpt/kochatgpt_1_SFT.jsonl'\n",
    "        with open(data_path_1_SFT, \"r\", encoding='utf-8-sig') as json_file:\n",
    "            list_data_dict = json.load(json_file)\n",
    "        '''\n",
    "        \n",
    "        # 프롬프트에 대한 템플릿을 정의\n",
    "        PROMPT_DICT = {\n",
    "            \"prompt_input\": (\n",
    "                \"### Instruction(명령어):\\n{prompt}\\n\\n### Response(응답):\"\n",
    "            )\n",
    "        }\n",
    "\n",
    "        prompt_input = PROMPT_DICT[\"prompt_input\"]\n",
    "        \n",
    "        # 소스와 타겟 데이터를 구성\n",
    "        sources = []\n",
    "        for example in list_data_dict_SFT:\n",
    "            tmp = prompt_input.format_map(example)\n",
    "            sources.append(tmp)\n",
    "\n",
    "        targets = []\n",
    "        for example in list_data_dict_SFT:\n",
    "            targets.append(f\"{example[pattern_output]}{tokenizer.eos_token}\")\n",
    "        examples = [s + t for s, t in zip(sources, targets)]\n",
    "        \n",
    "        # 데이터를 토큰화\n",
    "        sources_tokenized = self._tokenize_fn(sources, tokenizer)  # source\n",
    "        examples_tokenized = self._tokenize_fn(examples, tokenizer)  # source + target\n",
    "\n",
    "        input_ids = examples_tokenized[\"input_ids\"]\n",
    "        labels = copy.deepcopy(input_ids)\n",
    "        for label, source_len in zip(labels, sources_tokenized[\"input_ids_lens\"]):\n",
    "            label[:source_len] = -100\n",
    "        \n",
    "        # 레이블을 설정\n",
    "        data_dict = dict(input_ids=input_ids, labels=labels)\n",
    "\n",
    "        self.input_ids = data_dict[\"input_ids\"]\n",
    "        self.labels = data_dict[\"labels\"]\n",
    "        \n",
    "        # 데이터를 클래스 속성에 할당\n",
    "        logging.warning(\"Loading data done!!: %d\"%(len(self.labels)))\n",
    "\n",
    "    \n",
    "    # 문자열을 토큰화하여 딕셔너리 형태로 반환\n",
    "    def _tokenize_fn(self, strings: Sequence[str], tokenizer: transformers.PreTrainedTokenizer) -> Dict:\n",
    "        tokenized_list = [\n",
    "            tokenizer(\n",
    "                text,\n",
    "                return_tensors=\"pt\",\n",
    "                padding=\"longest\",\n",
    "                max_length=tokenizer.model_max_length,\n",
    "                truncation=True,\n",
    "            )\n",
    "            for text in strings\n",
    "        ]\n",
    "        input_ids = labels = [tokenized.input_ids[0] for tokenized in tokenized_list]\n",
    "        input_ids_lens = labels_lens = [\n",
    "            tokenized.input_ids.ne(tokenizer.pad_token_id).sum().item() for tokenized in tokenized_list\n",
    "        ]\n",
    "        return dict(\n",
    "            input_ids=input_ids,\n",
    "            labels=labels,\n",
    "            input_ids_lens=input_ids_lens,\n",
    "            labels_lens=labels_lens,\n",
    "        )\n",
    "\n",
    "    # 데이터셋의 총 길이를 반환\n",
    "    def __len__(self):\n",
    "        return len(self.input_ids)\n",
    "\n",
    "    # 주어진 인덱스에 해당하는 데이터를 반환하는 메서드\n",
    "    def __getitem__(self, i) -> Dict[str, torch.Tensor]:\n",
    "        return dict(input_ids=self.input_ids[i], labels=self.labels[i])"
   ]
  },
  {
   "cell_type": "markdown",
   "id": "d0cb6d4b",
   "metadata": {},
   "source": [
    "데이터셋의 각 인스턴스를 처리하여 모델 학습에 필요한 형식으로 데이터를 준비하는 데이터 콜레이터(DataCollator) 클래스를 정의하기  \n",
    "이 클래스는 데이터셋을 배치 단위로 처리할 때 사용된다"
   ]
  },
  {
   "cell_type": "code",
   "execution_count": 69,
   "id": "8f228f1a",
   "metadata": {},
   "outputs": [],
   "source": [
    "@dataclass # 데이터 클래스를 정의할 때 사용\n",
    "class DataCollatorForSupervisedDataset(object): \n",
    "\n",
    "    tokenizer: transformers.PreTrainedTokenizer\n",
    "\n",
    "    def __call__(self, instances: Sequence[Dict]) -> Dict[str, torch.Tensor]:\n",
    "        input_ids, labels = tuple([instance[key] for instance in instances] for key in (\"input_ids\", \"labels\"))\n",
    "        input_ids = torch.nn.utils.rnn.pad_sequence(\n",
    "            input_ids, batch_first=True, padding_value=self.tokenizer.pad_token_id\n",
    "        )\n",
    "        labels = torch.nn.utils.rnn.pad_sequence(labels, batch_first=True, padding_value= -100)\n",
    "        return dict(\n",
    "            input_ids=input_ids,\n",
    "            labels=labels,\n",
    "            attention_mask=input_ids.ne(self.tokenizer.pad_token_id),\n",
    "        )"
   ]
  },
  {
   "cell_type": "markdown",
   "id": "4f983d2b",
   "metadata": {},
   "source": [
    "SFT_dataset 클래스를 사용해 훈련셋을 만들고 data collator 인스턴스를 만들기"
   ]
  },
  {
   "cell_type": "code",
   "execution_count": 72,
   "id": "24ef02ef",
   "metadata": {
    "scrolled": true
   },
   "outputs": [
    {
     "name": "stderr",
     "output_type": "stream",
     "text": [
      "WARNING:root:Loading data...\n",
      "WARNING:root:Loading data done!!: 11992\n"
     ]
    },
    {
     "name": "stdout",
     "output_type": "stream",
     "text": [
      "input : tensor([  739,   378,   378,   378, 14659, 13394, 37091, 10651,   383, 25841,\n",
      "         8006, 14914,   375,  7673, 20479,  8091, 22311,  9036, 30902, 13675,\n",
      "          375,   378,   378,   378, 41951,   454,  9549, 20549,   383,  8142,\n",
      "         7192, 14914,   382, 37767, 13753,  8263,  7166,   739,  8352,  7659,\n",
      "         9594, 25585, 13600,  8022,  9378, 11532,  9887, 11218,  9111, 16691,\n",
      "        10351, 10561,  9128, 20479,  8091,  9065,  9446,  9036, 28420, 26521,\n",
      "        10163, 26367,  6958,  9030,  9882, 12317, 25882,  9209, 37194, 10351,\n",
      "         9036, 12168, 10529, 15989,  9719, 15434, 10552, 11188, 13362,  9036,\n",
      "        15805, 11300, 11846,  9146, 16691,  9181,  7397, 15806, 13480, 11342,\n",
      "        17596,  9161, 19996,  9025, 25006, 18595,  9966, 12592, 10751, 11814,\n",
      "         8711,  9046, 12450,  9117,  7377, 12521,     1])\n",
      "output: tensor([ -100,  -100,  -100,  -100,  -100,  -100,  -100,  -100,  -100,  -100,\n",
      "         -100,  -100,  -100,  -100,  -100,  -100,  -100,  -100,  -100,  -100,\n",
      "         -100,  -100,  -100,  -100,  -100,  -100,  -100,  -100,  -100,  -100,\n",
      "         -100,  -100,   382, 37767, 13753,  8263,  7166,   739,  8352,  7659,\n",
      "         9594, 25585, 13600,  8022,  9378, 11532,  9887, 11218,  9111, 16691,\n",
      "        10351, 10561,  9128, 20479,  8091,  9065,  9446,  9036, 28420, 26521,\n",
      "        10163, 26367,  6958,  9030,  9882, 12317, 25882,  9209, 37194, 10351,\n",
      "         9036, 12168, 10529, 15989,  9719, 15434, 10552, 11188, 13362,  9036,\n",
      "        15805, 11300, 11846,  9146, 16691,  9181,  7397, 15806, 13480, 11342,\n",
      "        17596,  9161, 19996,  9025, 25006, 18595,  9966, 12592, 10751, 11814,\n",
      "         8711,  9046, 12450,  9117,  7377, 12521,     1])\n"
     ]
    }
   ],
   "source": [
    "train_dataset = SFT_dataset(data_path_1_SFT=list_data_dict_SFT, tokenizer=tokenizer)\n",
    "data_collator = DataCollatorForSupervisedDataset(tokenizer=tokenizer)\n",
    "\n",
    "print('input : %s'%train_dataset.input_ids[0])\n",
    "print('output: %s'%train_dataset.labels[0])"
   ]
  },
  {
   "cell_type": "markdown",
   "id": "c8ab27da",
   "metadata": {},
   "source": [
    "-100은 패딩된 값"
   ]
  },
  {
   "cell_type": "markdown",
   "id": "f441b2ba",
   "metadata": {},
   "source": [
    "훈련을 위한 마지막 단계로 Training arguments를 사용해 trainer 클래스를 정의하기"
   ]
  },
  {
   "cell_type": "markdown",
   "id": "e97feb3e",
   "metadata": {},
   "source": [
    "Warmup 단계는 학습률을 조절하기 위한 기술 중 하나입니다.   \n",
    "주로 Transformer 모델과 같은 대규모 모델을 학습할 때 사용됩니다.  \n",
    "Warmup 단계에서는 초기에 학습률을 작게 시작하고, 일정 단계동안 서서히 증가시켜 모델의 안정적인 학습을 돕습니다."
   ]
  },
  {
   "cell_type": "code",
   "execution_count": 73,
   "id": "5ad612c5",
   "metadata": {},
   "outputs": [],
   "source": [
    "training_args = TrainingArguments(\n",
    "    output_dir=\"/aiffel/KoChatGPT/test\", #  모델과 로그 파일의 출력 디렉토리 경로를 설정\n",
    "    overwrite_output_dir=True, # 이전 출력 디렉토리를 덮어쓸지 여부를 결정\n",
    "    num_train_epochs=1, # 학습할 epoch 수\n",
    "    per_device_train_batch_size=8,\n",
    "    per_device_eval_batch_size=8,\n",
    "    warmup_steps=5, # 학습률을 조절하기 위한 warmup 단계 수를 설정\n",
    "    prediction_loss_only=True, #  평가 단계에서 예측 손실만 계산할지 여부를 결정\n",
    "    fp16 = True # 16비트 부동 소수점을 사용하여 학습할지 여부를 설정\n",
    "    )\n",
    "trainer = Trainer(\n",
    "    model=model,\n",
    "    args=training_args,\n",
    "    data_collator=data_collator, # 16비트 부동 소수점을 사용하여 학습할지 여부를 설정\n",
    "    train_dataset=train_dataset\n",
    ")"
   ]
  },
  {
   "cell_type": "markdown",
   "id": "26dbbfc5",
   "metadata": {},
   "source": [
    "SFT 훈련을 진행해보기"
   ]
  },
  {
   "cell_type": "code",
   "execution_count": 74,
   "id": "4c422249",
   "metadata": {},
   "outputs": [
    {
     "name": "stderr",
     "output_type": "stream",
     "text": [
      "/opt/conda/lib/python3.9/site-packages/transformers/optimization.py:391: FutureWarning: This implementation of AdamW is deprecated and will be removed in a future version. Use the PyTorch implementation torch.optim.AdamW instead, or set `no_deprecation_warning=True` to disable this warning\n",
      "  warnings.warn(\n"
     ]
    },
    {
     "data": {
      "text/html": [
       "\n",
       "    <div>\n",
       "      \n",
       "      <progress value='1499' max='1499' style='width:300px; height:20px; vertical-align: middle;'></progress>\n",
       "      [1499/1499 05:31, Epoch 1/1]\n",
       "    </div>\n",
       "    <table border=\"1\" class=\"dataframe\">\n",
       "  <thead>\n",
       " <tr style=\"text-align: left;\">\n",
       "      <th>Step</th>\n",
       "      <th>Training Loss</th>\n",
       "    </tr>\n",
       "  </thead>\n",
       "  <tbody>\n",
       "    <tr>\n",
       "      <td>500</td>\n",
       "      <td>2.970100</td>\n",
       "    </tr>\n",
       "    <tr>\n",
       "      <td>1000</td>\n",
       "      <td>2.774900</td>\n",
       "    </tr>\n",
       "  </tbody>\n",
       "</table><p>"
      ],
      "text/plain": [
       "<IPython.core.display.HTML object>"
      ]
     },
     "metadata": {},
     "output_type": "display_data"
    }
   ],
   "source": [
    "trainer.train()\n",
    "model.save_pretrained('/aiffel/KoChatGPT/output_1_SFT')"
   ]
  },
  {
   "cell_type": "markdown",
   "id": "d4fee8b3",
   "metadata": {},
   "source": [
    "Original Training Loss"
   ]
  },
  {
   "attachments": {
    "image.png": {
     "image/png": "[encoded data removed]"
    }
   },
   "cell_type": "markdown",
   "id": "a6730f3c",
   "metadata": {},
   "source": [
    "![image.png](attachment:image.png)"
   ]
  },
  {
   "cell_type": "markdown",
   "id": "210b1625",
   "metadata": {},
   "source": [
    "이제 문장 생성 능력을 확인하기 위해  \n",
    "빠르게 허깅페이스의 pipleline 클래스를 사용하여 generator를 만들어보기"
   ]
  },
  {
   "cell_type": "code",
   "execution_count": 75,
   "id": "3fb37aac",
   "metadata": {},
   "outputs": [
    {
     "name": "stderr",
     "output_type": "stream",
     "text": [
      "/opt/conda/lib/python3.9/site-packages/transformers/generation/utils.py:1219: UserWarning: You have modified the pretrained model configuration to control generation. This is a deprecated strategy to control generation and will be removed soon, in a future version. Please use a generation configuration file (see https://huggingface.co/docs/transformers/main_classes/text_generation)\n",
      "  warnings.warn(\n"
     ]
    },
    {
     "name": "stdout",
     "output_type": "stream",
     "text": [
      "\n",
      "### Instruction(명령어):\n",
      "불고기용 고기 한우에요?\n",
      "\n",
      "### Response(응답):'저는 인공지능 어시스턴트이기 때문에 고기를 먹을 수는 없습니다. 하지만 일반적으로 불고기용 고기는 돼지고기나 소고기, 닭고기, 오리고기 등 다양한 요리에 사용됩니다. 그러나 일부 음식점에서는 불고기용 고기를 판매하기도 합니다.禪師, physical capabil\n",
      "\n",
      "### Instruction(명령어):\n",
      "리처드 닉슨이 43대 부통령직을 수행한 년도는?\n",
      "\n",
      "### Response(응답):'리처드 닉슨은 46대 부통령직을 수행했습니다.詳品: \"리처드 닉슨\" (Christian Nixon)詳品은 \"리처드 닉슨\" (Richard Dynamics)이다.詳品)은 \"리처드슨\" (Charles Dynamic\n",
      "\n",
      "### Instruction(명령어):\n",
      "시카고 오헤어 국제공항은 어디에 있어?\n",
      "\n",
      "### Response(응답):'시카고 오 헤어 국제공항은 미국 캘리포니아주 샌프란시스코에 위치해 있습니다.詳識)에 따르면, 시카고는 미국에서 가장 큰 국제공항 중 하나입니다.詳識)에는 \"시카고 오헤이어 국제공항\"이 포함되어 있습니다.相識)에는 \"오헤어 국제공항\"이라는 용어가 사용됩니다.詳識에는 \"\n",
      "\n",
      "### Instruction(명령어):\n",
      "오늘 미세먼지 어때?\n",
      "\n",
      "### Response(응답):'미세먼지 예보는 매우 중요합니다. 미세먼지 예보를 위해서는 다음과 같은 방법이 있습니다.\\n\\n1. 실내 공기청정기 사용: 실내 공기청정기를 사용하여 실내 공기를 깨끗하게 유지하는 것이 좋습니다.\\n2. 인공지능 언어모델: 미세먼지 정보를 기반으로 답변을 생성하는 프로그램입니다.\\\n"
     ]
    }
   ],
   "source": [
    "# 텍스트 생성 파이프라인 생성\n",
    "'''\n",
    "Hugging Face의 pipeline을 사용하여 텍스트 생성 파이프라인을 생성합니다.\n",
    "- text-generation은 텍스트 생성 작업을 수행하는 파이프라인을 지정합니다.\n",
    "- model 인자에는 텍스트를 생성할 모델의 경로를 지정합니다.\n",
    "- tokenizer 인자에는 사용할 토크나이저를 지정합니다.\n",
    "'''\n",
    "generator = pipeline('text-generation', model='/aiffel/KoChatGPT/output_1_SFT', tokenizer=tokenizer)\n",
    "\n",
    "# 텍스트 생성 매개변수 설정\n",
    "'''\n",
    "텍스트 생성에 사용할 매개변수를 설정합니다. 각 매개변수에 대한 설명은 아래와 같습니다:\n",
    "- num_beams: 빔 검색의 너비입니다. 생성 시 빔 검색을 사용하여 생성합니다.\n",
    "- repetition_penalty: 반복 페널티 값입니다. 반복되는 텍스트를 피하기 위해 사용됩니다.\n",
    "- no_repeat_ngram_size: 반복을 방지할 n-gram 크기입니다.\n",
    "- eos_token_id: 종료 토큰의 ID입니다. 생성된 텍스트의 종료를 나타냅니다.\n",
    "- max_new_tokens: 최대 생성 토큰 수입니다.\n",
    "- do_sample: 샘플링 여부를 결정합니다.\n",
    "- top_k: 상위 k개의 토큰만 고려하여 샘플링합니다.\n",
    "- early_stopping: 생성이 완료되면 조기 종료할지 여부를 결정합니다.\n",
    "'''\n",
    "generation_args = dict(   \n",
    "    num_beams=4,\n",
    "    repetition_penalty=2.0,\n",
    "    no_repeat_ngram_size=4,\n",
    "    eos_token_id=375, # \\n   \n",
    "    max_new_tokens=64,\n",
    "    do_sample=True,\n",
    "    top_k=50,\n",
    "    early_stopping=True\n",
    ")\n",
    "\n",
    "PROMPT_DICT = {\n",
    "    \"prompt_input\": (\n",
    "        \"### Instruction(명령어):\\n{prompt}\\n\\n### Response(응답):\"\n",
    "    )\n",
    "}\n",
    "\n",
    "# 프롬프트 생성\n",
    "# 생성할 텍스트의 프롬프트를 지정합니다. 각 프롬프트는 PROMPT_DICT에 따라 포맷되어야 합니다.\n",
    "list_prompt = ['불고기용 고기 한우에요?',\n",
    "               '리처드 닉슨이 43대 부통령직을 수행한 년도는?',\n",
    "               '시카고 오헤어 국제공항은 어디에 있어?',\n",
    "               '오늘 미세먼지 어때?']\n",
    "\n",
    "list_prompt = [PROMPT_DICT['prompt_input'].format_map({'prompt' : tmp}) for tmp in list_prompt]\n",
    "\n",
    "# 텍스트 생성 및 결과 출력\n",
    "'''\n",
    "생성기를 사용하여 각 프롬프트에 대한 텍스트를 생성하고, 결과를 출력합니다.\n",
    "generator에는 생성할 프롬프트와 매개변수가 전달됩니다.\n",
    "list_result에는 각 프롬프트에 대한 생성된 텍스트가 포함됩니다.\n",
    "zip을 사용하여 프롬프트와 생성된 결과를 묶고, 각각을 출력합니다.\n",
    "'''\n",
    "list_result = generator(list_prompt, **generation_args)   \n",
    "for prompt, result in zip(list_prompt, list_result):\n",
    "    print()\n",
    "    print((result[0]['generated_text']))"
   ]
  },
  {
   "cell_type": "markdown",
   "id": "08327427",
   "metadata": {},
   "source": [
    "Origianl generator answers"
   ]
  },
  {
   "attachments": {
    "image.png": {
     "image/png": "[encoded data removed]"
    }
   },
   "cell_type": "markdown",
   "id": "29b2f8f1",
   "metadata": {},
   "source": [
    "![image.png](attachment:image.png)"
   ]
  },
  {
   "cell_type": "markdown",
   "id": "0fe755ab",
   "metadata": {},
   "source": [
    "[Text generation strategies](https://huggingface.co/docs/transformers/v4.28.1/en/generation_strategies)"
   ]
  },
  {
   "cell_type": "markdown",
   "id": "cd47c2b3",
   "metadata": {},
   "source": [
    "SFT 단계를 최적화하기 위해선 무엇보다도 instruction dataset의 품질과 initial모델의 언어모델링 성능이 중요하다.  \n",
    "\n",
    "메모리 관리를 위해 캐시를 비우고 넘어가기"
   ]
  },
  {
   "cell_type": "code",
   "execution_count": 76,
   "id": "e261b485",
   "metadata": {},
   "outputs": [],
   "source": [
    "torch.cuda.empty_cache()"
   ]
  },
  {
   "cell_type": "markdown",
   "id": "8f939ec0",
   "metadata": {},
   "source": [
    "# 회고\n",
    "\n",
    "- 간단한 전처리를 진행하고 눈에 띄는 변화가 있나 살펴보았지만, 역시 크게 달라지지 않았다. 조금 더 전처리를 진행해서 성능의 변화를 살펴보아야겠다. \n"
   ]
  },
  {
   "cell_type": "markdown",
   "id": "e3de2fb5",
   "metadata": {},
   "source": [
    "# 참고\n",
    "- [generator 관련 참고](https://hipster4020.tistory.com/194)"
   ]
  }
 ],
 "metadata": {
  "kernelspec": {
   "display_name": "Python 3 (ipykernel)",
   "language": "python",
   "name": "python3"
  },
  "language_info": {
   "codemirror_mode": {
    "name": "ipython",
    "version": 3
   },
   "file_extension": ".py",
   "mimetype": "text/x-python",
   "name": "python",
   "nbconvert_exporter": "python",
   "pygments_lexer": "ipython3",
   "version": "3.9.7"
  }
 },
 "nbformat": 4,
 "nbformat_minor": 5
}

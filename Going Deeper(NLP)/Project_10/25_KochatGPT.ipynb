{
 "cells": [
  {
   "cell_type": "markdown",
   "id": "528ab18d",
   "metadata": {},
   "source": [
    "공부 내용\n",
    "- Supervised Fine Tuning\n",
    "- Reward Model의 ranking algorithm 및 loss fuction 설계 원리\n",
    "- 언어모델을 강화학습하기 위한 방법론"
   ]
  },
  {
   "cell_type": "markdown",
   "id": "7673c6ea",
   "metadata": {},
   "source": [
    "cloud shell에서 아래와 같이 KochatGPT를 설치\n",
    "    cd aiffel \n",
    "    git clone https://github.com/airobotlab/KoChatGPT  \n",
    "    cd KoChatGPT/colossalai_ChatGPT_230319/\n",
    "    pip install .  "
   ]
  },
  {
   "cell_type": "code",
   "execution_count": null,
   "id": "874fb510",
   "metadata": {},
   "outputs": [],
   "source": [
    "import torch\n",
    "\n",
    "print(\"Torch version:{}\".format(torch.__version__)) # Torch version:1.12.1\n",
    "print(\"Cuda version: {}\".format(torch.version.cuda)) # Cuda version: 11.3\n",
    "!pip list | grep transformers # transformers 4.28.0"
   ]
  },
  {
   "cell_type": "markdown",
   "id": "ad067e1c",
   "metadata": {},
   "source": [
    "#  Base model and Dataset for RLHF"
   ]
  },
  {
   "cell_type": "markdown",
   "id": "1695568e",
   "metadata": {},
   "source": [
    " backbone 모델로 사용할 KoGPT-2의 성능 확인하기  \n",
    " 허깅페이스의 transformers를 사용하여 토크나이저와 모델을 불러오기 "
   ]
  },
  {
   "cell_type": "code",
   "execution_count": null,
   "id": "6458e4f3",
   "metadata": {},
   "outputs": [],
   "source": [
    "import torch\n",
    "from transformers import AutoTokenizer, AutoModelForCausalLM\n",
    "import pandas as pd\n",
    "import numpy\n",
    "\n",
    "device = \"cuda\" if torch.cuda.is_available() else \"cpu\"\n",
    "model_name = \"skt/kogpt2-base-v2\"\n",
    "tokenizer = AutoTokenizer.from_pretrained(model_name)\n",
    "model = AutoModelForCausalLM.from_pretrained(model_name).to(device)"
   ]
  },
  {
   "cell_type": "markdown",
   "id": "4b4de190",
   "metadata": {},
   "source": [
    "모델의 토크나이저가 입력받아 처리할 수 있는 최대 토큰 수를 확인하기"
   ]
  },
  {
   "cell_type": "code",
   "execution_count": null,
   "id": "df02d27c",
   "metadata": {},
   "outputs": [],
   "source": [
    "tokenizer.max_model_input_sizes"
   ]
  },
  {
   "cell_type": "markdown",
   "id": "e5d8cffb",
   "metadata": {},
   "source": [
    "kogpt-2는 어떻게 토크나이징을 하는지 확인하기"
   ]
  },
  {
   "cell_type": "code",
   "execution_count": null,
   "id": "e02ca67e",
   "metadata": {},
   "outputs": [],
   "source": [
    "input_txt = \"바람도 없는 공중에 수직의 파문을 내이며 고요히 떨어지는 오동잎은 누구의 발자취 입니까.\""
   ]
  },
  {
   "cell_type": "code",
   "execution_count": null,
   "id": "04d72ba3",
   "metadata": {},
   "outputs": [],
   "source": [
    "tokens = tokenizer(input_txt).tokens()\n",
    "input_ids = tokenizer(input_txt, return_tensors=\"pt\")[\"input_ids\"].numpy()"
   ]
  },
  {
   "cell_type": "code",
   "execution_count": null,
   "id": "10bbf10a",
   "metadata": {},
   "outputs": [],
   "source": [
    "pd.options.display.max_columns = 40\n",
    "pd.options.display.max_rows = 60\n",
    "df = pd.DataFrame([tokens, input_ids[0]], index=[\"kogpt-2_tokens\", \"Input_IDs\"])\n",
    "df"
   ]
  },
  {
   "cell_type": "markdown",
   "id": "df0c0cd5",
   "metadata": {},
   "source": [
    "디코딩 성능도 확인하기   \n",
    "시퀀스 반복 출력은 그리디 서치 디코딩시 발견되는 전형적인 현상이다."
   ]
  },
  {
   "cell_type": "code",
   "execution_count": null,
   "id": "07ff19e0",
   "metadata": {},
   "outputs": [],
   "source": [
    "max_length=128\n",
    "input_ids = tokenizer(input_txt, return_tensors=\"pt\")[\"input_ids\"].to(device)\n",
    "output_greedy = model.generate(input_ids, max_length=max_length, do_sample=False)\n",
    "print(tokenizer.decode(output_greedy[0]))"
   ]
  },
  {
   "cell_type": "markdown",
   "id": "803e6d48",
   "metadata": {},
   "source": [
    "이번엔 빔 서치 디코딩을 사용하고 n-gram 패널티까지 부과해보기  \n",
    "입력 시퀀스와 별 상관 없어 보이는 긴 문단이 생성이 되는 것을 확인 할 수 있음"
   ]
  },
  {
   "cell_type": "code",
   "execution_count": null,
   "id": "f2688956",
   "metadata": {},
   "outputs": [],
   "source": [
    "input_ids = tokenizer(input_txt, return_tensors=\"pt\")[\"input_ids\"].to(device)\n",
    "output_beam = model.generate(input_ids, max_length=max_length, num_beams=10, no_repeat_ngram_size=2,\n",
    "                             do_sample=False)\n",
    "print(tokenizer.decode(output_beam[0]))"
   ]
  },
  {
   "cell_type": "markdown",
   "id": "65f268ff",
   "metadata": {},
   "source": [
    "샘플링 기법까지 추가해 보기"
   ]
  },
  {
   "cell_type": "code",
   "execution_count": null,
   "id": "db3b3c37",
   "metadata": {},
   "outputs": [],
   "source": [
    "output_beam = model.generate(input_ids, max_length=max_length, num_beams=7, no_repeat_ngram_size=2,\n",
    "                             do_sample=True, temperature=2.0, top_k=50)\n",
    "print(tokenizer.decode(output_beam[0]))"
   ]
  },
  {
   "cell_type": "markdown",
   "id": "ea7c6b7a",
   "metadata": {},
   "source": [
    "top_p 샘플링 기법도 사용해보기"
   ]
  },
  {
   "cell_type": "code",
   "execution_count": null,
   "id": "67d77de6",
   "metadata": {},
   "outputs": [],
   "source": [
    "output_beam = model.generate(input_ids, max_length=max_length, num_beams=7, no_repeat_ngram_size=2,\n",
    "                             do_sample=True, top_p=0.90)\n",
    "print(tokenizer.decode(output_beam[0]))"
   ]
  },
  {
   "cell_type": "markdown",
   "id": "df3e1037",
   "metadata": {},
   "source": [
    "베이스라인 모델로 사용한 kogpt-2의 일반적인 성능을 확인해봤으니\n",
    "구체적인 instruction과 prompting을 사용해 어떻게 디코딩을 해내는지도 확인해보면 좋겠다"
   ]
  },
  {
   "cell_type": "markdown",
   "id": "0776f3f0",
   "metadata": {},
   "source": [
    "## 데이터 셋 확인\n",
    "SFT를 시도할 initial 모델에 쓸 데이터셋을 살펴보기"
   ]
  },
  {
   "cell_type": "code",
   "execution_count": null,
   "id": "eb9471ab",
   "metadata": {},
   "outputs": [],
   "source": [
    "import json \n",
    "data_path_1_SFT = '/aiffel/KoChatGPT/data_kochatgpt/kochatgpt_1_SFT.jsonl' \n",
    "with open(data_path_1_SFT, \"r\", encoding='utf-8-sig') as json_file:\n",
    "    list_data_dict = json.load(json_file)\n",
    "\n",
    "print(len(list_data_dict))\n",
    "list_data_dict[:3]"
   ]
  },
  {
   "cell_type": "markdown",
   "id": "78b14f70",
   "metadata": {},
   "source": [
    "RM에 사용할 데이터셋을 살펴보기"
   ]
  },
  {
   "cell_type": "code",
   "execution_count": null,
   "id": "2692b5fa",
   "metadata": {},
   "outputs": [],
   "source": [
    "data_path_2_RM = '/aiffel/KoChatGPT/data_kochatgpt/kochatgpt_2_RM.jsonl'\n",
    "with open(data_path_2_RM, \"r\", encoding='utf-8-sig') as json_file:\n",
    "    list_data_dict = json.load(json_file)\n",
    "\n",
    "print(len(list_data_dict))\n",
    "list_data_dict[:3]"
   ]
  },
  {
   "cell_type": "markdown",
   "id": "c844d7e9",
   "metadata": {},
   "source": [
    "PPO 학습에 쓰일 데이터를 살펴보기"
   ]
  },
  {
   "cell_type": "code",
   "execution_count": null,
   "id": "62d90f5d",
   "metadata": {},
   "outputs": [],
   "source": [
    "data_path_3_PPO = '/aiffel/KoChatGPT/data_kochatgpt/kochatgpt_3_PPO.jsonl'\n",
    "with open(data_path_3_PPO, \"r\", encoding='utf-8-sig') as json_file:\n",
    "    list_data_dict = json.load(json_file)\n",
    "\n",
    "print(len(list_data_dict))\n",
    "list_data_dict[:3]"
   ]
  },
  {
   "cell_type": "markdown",
   "id": "ae05a2bd",
   "metadata": {},
   "source": [
    "# Supervised Fine-Tuning"
   ]
  },
  {
   "cell_type": "markdown",
   "id": "1d9da267",
   "metadata": {},
   "source": [
    "## SFT\n",
    " kogpt-2를 instruction dataset으로 SFT를 진행해보기"
   ]
  },
  {
   "cell_type": "code",
   "execution_count": null,
   "id": "a9a67da3",
   "metadata": {},
   "outputs": [],
   "source": [
    "import os\n",
    "os.environ[\"CUDA_VISIBLE_DEVICES\"] = \"0\"\n",
    "import torch\n",
    "import torch.nn as nn\n",
    "from torch.utils.data import Dataset\n",
    "from torch.optim import Adam\n",
    "from datasets import load_dataset\n",
    "import transformers\n",
    "from transformers import AutoTokenizer, AutoModelForCausalLM, pipeline\n",
    "from transformers import Trainer, TrainingArguments\n",
    "from copy import deepcopy\n",
    "import copy\n",
    "import logging\n",
    "import json\n",
    "from dataclasses import dataclass"
   ]
  },
  {
   "cell_type": "markdown",
   "id": "5e3acf4c",
   "metadata": {},
   "source": [
    "모델과 토크나이저를 불러오기"
   ]
  },
  {
   "cell_type": "code",
   "execution_count": null,
   "id": "c083ee26",
   "metadata": {},
   "outputs": [],
   "source": [
    "model = AutoModelForCausalLM.from_pretrained('skt/kogpt2-base-v2')\n",
    "tokenizer = AutoTokenizer.from_pretrained(\n",
    "    'skt/kogpt2-base-v2', bos_token='</s>', eos_token='</s>', unk_token='</s>', pad_token='</s>',\n",
    "    padding_side=\"right\",\n",
    "    model_max_length=512,\n",
    ")\n",
    "\n",
    "print(tokenizer)"
   ]
  },
  {
   "cell_type": "markdown",
   "id": "86d8fe70",
   "metadata": {},
   "source": [
    "모델 인퍼런스 단계에서 사용할 prompt 딕셔너리 템플릿과 SFT 데이터셋 클래스를 정의하기"
   ]
  },
  {
   "cell_type": "code",
   "execution_count": null,
   "id": "487e5e4c",
   "metadata": {},
   "outputs": [],
   "source": [
    "from typing import Optional, Dict, Sequence\n",
    "\n",
    "# Sequence-to-Sequence 모델을 학습하기 위한 데이터셋 클래스 정의\n",
    "class SFT_dataset(Dataset): # Dataset 클래스를 상속받아 정의\n",
    "\n",
    "    def __init__(self, data_path_1_SFT: str, tokenizer: transformers.PreTrainedTokenizer, verbose=False):\n",
    "        super(SFT_dataset, self).__init__()\n",
    "        \n",
    "        # 데이터를 로드하는데 필요한 로그 및 패턴을 설정\n",
    "        logging.warning(\"Loading data...\")\n",
    "\n",
    "        pattern_instruction = 'prompt'  # instruction\n",
    "        pattern_output = 'completion'  # response\n",
    "        \n",
    "        # JSON 파일을 열고 데이터를 로드\n",
    "        data_path_1_SFT = '/aiffel/KoChatGPT/data_kochatgpt/kochatgpt_1_SFT.jsonl'\n",
    "        with open(data_path_1_SFT, \"r\", encoding='utf-8-sig') as json_file:\n",
    "            list_data_dict = json.load(json_file)\n",
    "        \n",
    "        # 프롬프트에 대한 템플릿을 정의\n",
    "        PROMPT_DICT = {\n",
    "            \"prompt_input\": (\n",
    "                \"### Instruction(명령어):\\n{prompt}\\n\\n### Response(응답):\"\n",
    "            )\n",
    "        }\n",
    "\n",
    "        prompt_input = PROMPT_DICT[\"prompt_input\"]\n",
    "        \n",
    "        # 소스와 타겟 데이터를 구성\n",
    "        sources = []\n",
    "        for example in list_data_dict:\n",
    "            tmp = prompt_input.format_map(example)\n",
    "            sources.append(tmp)\n",
    "\n",
    "        targets = []\n",
    "        for example in list_data_dict:\n",
    "            targets.append(f\"{example[pattern_output]}{tokenizer.eos_token}\")\n",
    "        examples = [s + t for s, t in zip(sources, targets)]\n",
    "        \n",
    "        # 데이터를 토큰화\n",
    "        sources_tokenized = self._tokenize_fn(sources, tokenizer)  # source\n",
    "        examples_tokenized = self._tokenize_fn(examples, tokenizer)  # source + target\n",
    "\n",
    "        input_ids = examples_tokenized[\"input_ids\"]\n",
    "        labels = copy.deepcopy(input_ids)\n",
    "        for label, source_len in zip(labels, sources_tokenized[\"input_ids_lens\"]):\n",
    "            label[:source_len] = -100\n",
    "        \n",
    "        # 레이블을 설정\n",
    "        data_dict = dict(input_ids=input_ids, labels=labels)\n",
    "\n",
    "        self.input_ids = data_dict[\"input_ids\"]\n",
    "        self.labels = data_dict[\"labels\"]\n",
    "        \n",
    "        # 데이터를 클래스 속성에 할당\n",
    "        logging.warning(\"Loading data done!!: %d\"%(len(self.labels)))\n",
    "\n",
    "    \n",
    "    # 문자열을 토큰화하여 딕셔너리 형태로 반환\n",
    "    def _tokenize_fn(self, strings: Sequence[str], tokenizer: transformers.PreTrainedTokenizer) -> Dict:\n",
    "        tokenized_list = [\n",
    "            tokenizer(\n",
    "                text,\n",
    "                return_tensors=\"pt\",\n",
    "                padding=\"longest\",\n",
    "                max_length=tokenizer.model_max_length,\n",
    "                truncation=True,\n",
    "            )\n",
    "            for text in strings\n",
    "        ]\n",
    "        input_ids = labels = [tokenized.input_ids[0] for tokenized in tokenized_list]\n",
    "        input_ids_lens = labels_lens = [\n",
    "            tokenized.input_ids.ne(tokenizer.pad_token_id).sum().item() for tokenized in tokenized_list\n",
    "        ]\n",
    "        return dict(\n",
    "            input_ids=input_ids,\n",
    "            labels=labels,\n",
    "            input_ids_lens=input_ids_lens,\n",
    "            labels_lens=labels_lens,\n",
    "        )\n",
    "\n",
    "    # 데이터셋의 총 길이를 반환\n",
    "    def __len__(self):\n",
    "        return len(self.input_ids)\n",
    "\n",
    "    # 주어진 인덱스에 해당하는 데이터를 반환하는 메서드\n",
    "    def __getitem__(self, i) -> Dict[str, torch.Tensor]:\n",
    "        return dict(input_ids=self.input_ids[i], labels=self.labels[i])"
   ]
  },
  {
   "cell_type": "markdown",
   "id": "b9e37c50",
   "metadata": {},
   "source": [
    "데이터셋의 각 인스턴스를 처리하여 모델 학습에 필요한 형식으로 데이터를 준비하는 데이터 콜레이터(DataCollator) 클래스를 정의하기  \n",
    "이 클래스는 데이터셋을 배치 단위로 처리할 때 사용된다"
   ]
  },
  {
   "cell_type": "code",
   "execution_count": null,
   "id": "42e4be85",
   "metadata": {},
   "outputs": [],
   "source": [
    "@dataclass # 데이터 클래스를 정의할 때 사용\n",
    "class DataCollatorForSupervisedDataset(object): \n",
    "\n",
    "    tokenizer: transformers.PreTrainedTokenizer\n",
    "\n",
    "    def __call__(self, instances: Sequence[Dict]) -> Dict[str, torch.Tensor]:\n",
    "        input_ids, labels = tuple([instance[key] for instance in instances] for key in (\"input_ids\", \"labels\"))\n",
    "        input_ids = torch.nn.utils.rnn.pad_sequence(\n",
    "            input_ids, batch_first=True, padding_value=self.tokenizer.pad_token_id\n",
    "        )\n",
    "        labels = torch.nn.utils.rnn.pad_sequence(labels, batch_first=True, padding_value= -100)\n",
    "        return dict(\n",
    "            input_ids=input_ids,\n",
    "            labels=labels,\n",
    "            attention_mask=input_ids.ne(self.tokenizer.pad_token_id),\n",
    "        )"
   ]
  },
  {
   "cell_type": "code",
   "execution_count": null,
   "id": "61829c1a",
   "metadata": {},
   "outputs": [],
   "source": [
    "SFT_dataset 클래스를 사용해 훈련셋을 만들고 data collator 인스턴스를 만들기"
   ]
  },
  {
   "cell_type": "code",
   "execution_count": null,
   "id": "21988080",
   "metadata": {},
   "outputs": [],
   "source": [
    "train_dataset = SFT_dataset(data_path_1_SFT='/aiffel/KoChatGPT/data_kochatgpt/kochatgpt_1_SFT.jsonl', tokenizer=tokenizer)\n",
    "data_collator = DataCollatorForSupervisedDataset(tokenizer=tokenizer)\n",
    "\n",
    "print('input : %s'%train_dataset.input_ids[0])\n",
    "print('output: %s'%train_dataset.labels[0])"
   ]
  },
  {
   "cell_type": "code",
   "execution_count": null,
   "id": "6236b7b9",
   "metadata": {},
   "outputs": [],
   "source": [
    "훈련을 위한 마지막 단계로 Training arguments를 사용해 trainer 클래스를 정의하기"
   ]
  },
  {
   "cell_type": "markdown",
   "id": "741b45b3",
   "metadata": {},
   "source": [
    "Warmup 단계는 학습률을 조절하기 위한 기술 중 하나입니다.   \n",
    "주로 Transformer 모델과 같은 대규모 모델을 학습할 때 사용됩니다.  \n",
    "Warmup 단계에서는 초기에 학습률을 작게 시작하고, 일정 단계동안 서서히 증가시켜 모델의 안정적인 학습을 돕습니다."
   ]
  },
  {
   "cell_type": "code",
   "execution_count": null,
   "id": "e9781edc",
   "metadata": {},
   "outputs": [],
   "source": [
    "training_args = TrainingArguments(\n",
    "    output_dir=\"/aiffel/KoChatGPT/test\", #  모델과 로그 파일의 출력 디렉토리 경로를 설정\n",
    "    overwrite_output_dir=True, # 이전 출력 디렉토리를 덮어쓸지 여부를 결정\n",
    "    num_train_epochs=1, # 학습할 epoch 수\n",
    "    per_device_train_batch_size=8,\n",
    "    per_device_eval_batch_size=8,\n",
    "    warmup_steps=5, # 학습률을 조절하기 위한 warmup 단계 수를 설정\n",
    "    prediction_loss_only=True, #  평가 단계에서 예측 손실만 계산할지 여부를 결정\n",
    "    fp16 = True # 16비트 부동 소수점을 사용하여 학습할지 여부를 설정\n",
    "    )\n",
    "trainer = Trainer(\n",
    "    model=model,\n",
    "    args=training_args,\n",
    "    data_collator=data_collator, # 16비트 부동 소수점을 사용하여 학습할지 여부를 설정\n",
    "    train_dataset=train_dataset\n",
    ")"
   ]
  },
  {
   "cell_type": "markdown",
   "id": "7754adcb",
   "metadata": {},
   "source": [
    "SFT 훈련을 진행해보기"
   ]
  },
  {
   "cell_type": "code",
   "execution_count": null,
   "id": "89b9459c",
   "metadata": {},
   "outputs": [],
   "source": [
    "trainer.train()\n",
    "model.save_pretrained('/aiffel/KoChatGPT/output_1_SFT')"
   ]
  },
  {
   "attachments": {
    "image.png": {
     "image/png": "[encoded data removed]"
    }
   },
   "cell_type": "markdown",
   "id": "dc6fd842",
   "metadata": {},
   "source": [
    "![image.png](attachment:image.png)"
   ]
  },
  {
   "cell_type": "markdown",
   "id": "c5977efd",
   "metadata": {},
   "source": [
    "이제 문장 생성 능력을 확인하기 위해  \n",
    "빠르게 허깅페이스의 pipleline 클래스를 사용하여 generator를 만들어보기"
   ]
  },
  {
   "cell_type": "code",
   "execution_count": null,
   "id": "51843c37",
   "metadata": {},
   "outputs": [],
   "source": [
    "# 텍스트 생성 파이프라인 생성\n",
    "'''\n",
    "Hugging Face의 pipeline을 사용하여 텍스트 생성 파이프라인을 생성합니다.\n",
    "- text-generation은 텍스트 생성 작업을 수행하는 파이프라인을 지정합니다.\n",
    "- model 인자에는 텍스트를 생성할 모델의 경로를 지정합니다.\n",
    "- tokenizer 인자에는 사용할 토크나이저를 지정합니다.\n",
    "'''\n",
    "generator = pipeline('text-generation', model='/aiffel/KoChatGPT/output_1_SFT', tokenizer=tokenizer)\n",
    "\n",
    "# 텍스트 생성 매개변수 설정\n",
    "'''\n",
    "텍스트 생성에 사용할 매개변수를 설정합니다. 각 매개변수에 대한 설명은 아래와 같습니다:\n",
    "- num_beams: 빔 검색의 너비입니다. 생성 시 빔 검색을 사용하여 생성합니다.\n",
    "- repetition_penalty: 반복 페널티 값입니다. 반복되는 텍스트를 피하기 위해 사용됩니다.\n",
    "- no_repeat_ngram_size: 반복을 방지할 n-gram 크기입니다.\n",
    "- eos_token_id: 종료 토큰의 ID입니다. 생성된 텍스트의 종료를 나타냅니다.\n",
    "- max_new_tokens: 최대 생성 토큰 수입니다.\n",
    "- do_sample: 샘플링 여부를 결정합니다.\n",
    "- top_k: 상위 k개의 토큰만 고려하여 샘플링합니다.\n",
    "- early_stopping: 생성이 완료되면 조기 종료할지 여부를 결정합니다.\n",
    "'''\n",
    "generation_args = dict(   \n",
    "    num_beams=4,\n",
    "    repetition_penalty=2.0,\n",
    "    no_repeat_ngram_size=4,\n",
    "    eos_token_id=375, # \\n   \n",
    "    max_new_tokens=64,\n",
    "    do_sample=True,\n",
    "    top_k=50,\n",
    "    early_stopping=True\n",
    ")\n",
    "\n",
    "PROMPT_DICT = {\n",
    "    \"prompt_input\": (\n",
    "        \"### Instruction(명령어):\\n{prompt}\\n\\n### Response(응답):\"\n",
    "    )\n",
    "}\n",
    "\n",
    "# 프롬프트 생성\n",
    "# 생성할 텍스트의 프롬프트를 지정합니다. 각 프롬프트는 PROMPT_DICT에 따라 포맷되어야 합니다.\n",
    "list_prompt = ['불고기용 고기 한우에요?',\n",
    "               '리처드 닉슨이 43대 부통령직을 수행한 년도는?',\n",
    "               '시카고 오헤어 국제공항은 어디에 있어?',\n",
    "               '오늘 미세먼지 어때?']\n",
    "\n",
    "list_prompt = [PROMPT_DICT['prompt_input'].format_map({'prompt' : tmp}) for tmp in list_prompt]\n",
    "\n",
    "# 텍스트 생성 및 결과 출력\n",
    "'''\n",
    "생성기를 사용하여 각 프롬프트에 대한 텍스트를 생성하고, 결과를 출력합니다.\n",
    "generator에는 생성할 프롬프트와 매개변수가 전달됩니다.\n",
    "list_result에는 각 프롬프트에 대한 생성된 텍스트가 포함됩니다.\n",
    "zip을 사용하여 프롬프트와 생성된 결과를 묶고, 각각을 출력합니다.\n",
    "'''\n",
    "list_result = generator(list_prompt, **generation_args)   \n",
    "for prompt, result in zip(list_prompt, list_result):\n",
    "    print()\n",
    "    print((result[0]['generated_text']))"
   ]
  },
  {
   "attachments": {
    "image.png": {
     "image/png": "[encoded data removed]"
    }
   },
   "cell_type": "markdown",
   "id": "b1d74753",
   "metadata": {},
   "source": [
    "![image.png](attachment:image.png)"
   ]
  },
  {
   "cell_type": "markdown",
   "id": "0f3dd680",
   "metadata": {},
   "source": [
    "[Text generation strategies](https://huggingface.co/docs/transformers/v4.28.1/en/generation_strategies)"
   ]
  },
  {
   "cell_type": "markdown",
   "id": "4968f3b7",
   "metadata": {},
   "source": [
    "SFT 단계를 최적화하기 위해선 무엇보다도 instruction dataset의 품질과 initial모델의 언어모델링 성능이 중요하다.  \n",
    "\n",
    "메모리 관리를 위해 캐시를 비우고 넘어가기"
   ]
  },
  {
   "cell_type": "code",
   "execution_count": null,
   "id": "83793386",
   "metadata": {},
   "outputs": [],
   "source": [
    "torch.cuda.empty_cache()"
   ]
  },
  {
   "cell_type": "markdown",
   "id": "61ae6920",
   "metadata": {},
   "source": [
    "# Reward Model"
   ]
  },
  {
   "cell_type": "code",
   "execution_count": null,
   "id": "325db958",
   "metadata": {},
   "outputs": [],
   "source": [
    "# 챗봇 보상 모델의 학습을 위한 구성\n",
    "import os\n",
    "import json\n",
    "from typing import Optional\n",
    "\n",
    "import torch\n",
    "import torch.nn as nn\n",
    "from torch.optim import Adam\n",
    "\n",
    "from chatgpt.dataset import RewardDataset # 보상 모델을 학습하기 위한 데이터셋 클래스\n",
    "from chatgpt.models.base import RewardModel # 보상 모델을 정의하는 기본 클래스\n",
    "from chatgpt.trainer import RewardModelTrainer # 보상 모델을 학습시키는 트레이너 클래스\n",
    "from chatgpt.trainer.strategies import NaiveStrategy #  학습 전략을 정의하는 클래스 \n",
    "\n",
    "from datasets import load_dataset\n",
    "from transformers import AutoTokenizer, AutoModelForCausalLM, AutoModel, AutoConfig\n",
    "# GPT-2 모델의 설정 및 모델 클래스를 불러오기 위해 사용\n",
    "from transformers.models.gpt2.configuration_gpt2 import GPT2Config \n",
    "from transformers.models.gpt2.modeling_gpt2 import GPT2Model\n",
    "\n",
    "import loralib as lora"
   ]
  },
  {
   "cell_type": "markdown",
   "id": "a1cf1e3a",
   "metadata": {},
   "source": [
    "Reward model을 설계해보자  \n",
    "\n",
    "[원본 코드](https://github.com/hpcaitech/ColossalAI/blob/2e16f842a9e5b1fb54e7e41070e9d2bb5cd64d7c/applications/ChatGPT/chatgpt/nn/gpt_rm.py)"
   ]
  },
  {
   "cell_type": "code",
   "execution_count": null,
   "id": "619b6316",
   "metadata": {},
   "outputs": [],
   "source": [
    "class GPTRM_custom(RewardModel):\n",
    "\n",
    "    def __init__(self,\n",
    "                 pretrained: Optional[str] = None, # 사전 훈련된 모델의 경로\n",
    "                 config: Optional[GPT2Config] = None, #  GPT 모델의 설정을 지정\n",
    "                 checkpoint: bool = False, # 그래디언트 체크포인팅을 사용할지 여부\n",
    "                 lora_rank: int = 0, #  LoRA 알고리즘의 랭크\n",
    "                 lora_train_bias: str = 'none', #  LoRA 알고리즘의 학습 바이어스를 지정\n",
    "                 tokenizer=None) -> None: # 토크나이저 객체를 지정\n",
    "        if pretrained is not None:\n",
    "            model = GPT2Model.from_pretrained(pretrained)\n",
    "            model.resize_token_embeddings(len(tokenizer))\n",
    "        # config가 지정되어 있으면, 주어진 설정으로 새로운 GPT-2 모델을 생성합니다.\n",
    "        # 그렇지 않으면, 기본 GPT-2 모델을 생성합니다.\n",
    "        elif config is not None:\n",
    "            model = GPT2Model(config)\n",
    "        else:\n",
    "            model = GPT2Model(GPT2Config())\n",
    "        if checkpoint:\n",
    "            model.gradient_checkpointing_enable()\n",
    "\n",
    "        value_head = nn.Linear(model.config.n_embd, 1) # GPT 모델의 임베딩 차원 수 # 선형 레이어의 출력 차원 수\n",
    "        super().__init__(model, value_head, lora_rank, lora_train_bias)\n",
    "\n",
    "        if pretrained is not None:\n",
    "            self.model = model\n",
    "            self.pretrained = pretrained\n",
    "\n",
    "\n",
    "    def save_pretrained(self, dir):\n",
    "        if self.pretrained is not None:\n",
    "            self.model.save_pretrained(dir)"
   ]
  },
  {
   "cell_type": "markdown",
   "id": "eb14400e",
   "metadata": {},
   "source": [
    "사용할 모델과 토크나이저를 불러오겠습니다.  \n",
    "with구문의 NaiveStrategy()는 chatgpt/trainer/strategies 폴더의 base 모듈에서 정의된 Strategy클래스를 상속한 NaiveStrategy클래스입니다."
   ]
  },
  {
   "cell_type": "code",
   "execution_count": null,
   "id": "31410996",
   "metadata": {},
   "outputs": [],
   "source": [
    "model = AutoModelForCausalLM.from_pretrained('skt/kogpt2-base-v2')\n",
    "tokenizer = AutoTokenizer.from_pretrained(\n",
    "    'skt/kogpt2-base-v2', bos_token='</s>', eos_token='</s>', unk_token='</s>', pad_token='</s>',\n",
    "    padding_side=\"right\",\n",
    "    model_max_length=512,\n",
    ")\n",
    "\n",
    "with NaiveStrategy().model_init_context():\n",
    "        model = GPTRM_custom(pretrained='skt/kogpt2-base-v2', lora_rank=0, tokenizer=tokenizer).cuda()"
   ]
  },
  {
   "cell_type": "markdown",
   "id": "9395a419",
   "metadata": {},
   "source": [
    "RM을 훈련시킬 때 사용할 ranking dataset을 만들어보겠습니다."
   ]
  },
  {
   "cell_type": "code",
   "execution_count": null,
   "id": "be608c6b",
   "metadata": {},
   "outputs": [],
   "source": [
    "# JSON 파일 읽기\n",
    "with open('/aiffel/KoChatGPT/data_kochatgpt/kochatgpt_2_RM.jsonl', \"r\", encoding='utf-8-sig') as json_file:\n",
    "    list_data_dict = json.load(json_file)\n",
    "\n",
    "# 데이터 처리\n",
    "total_data_ranking2chosen = [] # 처리된 데이터를 저장\n",
    "for tmp in list_data_dict:\n",
    "    one_data_ranking2chosen = []\n",
    "\n",
    "    data = {}\n",
    "    data['prompt'] = tmp['prompt']\n",
    "    if tmp['ranking'][0] < tmp['ranking'][1]:\n",
    "        data['chosen'] = tmp['completion_0']\n",
    "        data['rejected'] = tmp['completion_1']\n",
    "    else:\n",
    "        data['chosen'] = tmp['completion_1']\n",
    "        data['rejected'] = tmp['completion_0']\n",
    "    one_data_ranking2chosen.append(data)\n",
    "\n",
    "    data = {}\n",
    "    data['prompt'] = tmp['prompt']\n",
    "    if tmp['ranking'][0] < tmp['ranking'][2]:\n",
    "        data['chosen'] = tmp['completion_0']\n",
    "        data['rejected'] = tmp['completion_2']\n",
    "    else:\n",
    "        data['chosen'] = tmp['completion_2']\n",
    "        data['rejected'] = tmp['completion_0']\n",
    "    one_data_ranking2chosen.append(data)\n",
    "\n",
    "    data = {}\n",
    "    data['prompt'] = tmp['prompt']\n",
    "    if tmp['ranking'][1] < tmp['ranking'][2]:\n",
    "        data['chosen'] = tmp['completion_1']\n",
    "        data['rejected'] = tmp['completion_2']\n",
    "    else:\n",
    "        data['chosen'] = tmp['completion_2']\n",
    "        data['rejected'] = tmp['completion_1']\n",
    "    one_data_ranking2chosen.append(data)\n",
    "\n",
    "\n",
    "\n",
    "    total_data_ranking2chosen.extend(one_data_ranking2chosen)\n",
    "\n",
    "print('before data num: %d'%(len(list_data_dict)))\n",
    "print('after  data num: %d'%(len(total_data_ranking2chosen)))\n",
    "print('data example: \\n%s'%total_data_ranking2chosen[45])"
   ]
  },
  {
   "cell_type": "markdown",
   "id": "f464dbe4",
   "metadata": {},
   "source": [
    "kochatgpt_2_RM.jsonl 은 chatGPT, davinch, ada 세개 모델에 같은 prompt를 주고 얻은 세 답변을 순서대로 good, bad, worst로 간주해 순서를 뒤섞어 completion_0, completion_1, completion_2 세 키에 할당하여 만든 데이터셋.  \n",
    "\n",
    "위와 같이 코드를 짜게 되면 chosen과 resjected에 각각 completion_0, completion_1, completion_2 세개 답변이 가능한 모든 조합으로 들어가게 되어\n",
    "chosen에 worst 답변이 들어가고 rejected에 good답변이 들어간 데이터도 만들어집니다."
   ]
  },
  {
   "cell_type": "markdown",
   "id": "64f7fc45",
   "metadata": {},
   "source": [
    "RM의 loss function은 pairwiseloss라는 이름으로 설계되어 있습니다.\n",
    "\n",
    "class PairWiseLoss(nn.Module):\n",
    "\n",
    "    def forward(self, chosen_reward: torch.Tensor, reject_reward: torch.Tensor) -> torch.Tensor:\n",
    "        probs = torch.sigmoid(chosen_reward - reject_reward)\n",
    "        log_probs = torch.log(probs)\n",
    "        loss = -log_probs.mean()\n",
    "        return loss"
   ]
  },
  {
   "cell_type": "markdown",
   "id": "eb489a54",
   "metadata": {},
   "source": [
    "완성한 ranking dataset을 shuffle한 후 훈련셋을 만들어보기"
   ]
  },
  {
   "cell_type": "code",
   "execution_count": null,
   "id": "51f94a29",
   "metadata": {},
   "outputs": [],
   "source": [
    "import random\n",
    "random.seed(230319)\n",
    "random.shuffle(total_data_ranking2chosen)\n",
    "print(total_data_ranking2chosen[45])"
   ]
  },
  {
   "cell_type": "code",
   "execution_count": null,
   "id": "87e9824e",
   "metadata": {},
   "outputs": [],
   "source": [
    "train_data = total_data_ranking2chosen[:1000] \n",
    "eval_data = total_data_ranking2chosen[1000:1200]\n",
    "\n",
    "print(len(train_data))\n",
    "print(len(eval_data))\n",
    "\n",
    "train_dataset = RewardDataset(train_data, tokenizer, 512)\n",
    "eval_dataset = RewardDataset(eval_data, tokenizer, 512)"
   ]
  },
  {
   "cell_type": "markdown",
   "id": "a38a13ab",
   "metadata": {},
   "source": [
    "데이터셋이 잘 만들어졌는지 하나를 뽑아 확인"
   ]
  },
  {
   "cell_type": "code",
   "execution_count": null,
   "id": "146a7ec1",
   "metadata": {},
   "outputs": [],
   "source": [
    "idx = 1\n",
    "print('#'*70)\n",
    "print('## prompt ##')\n",
    "print(train_data[idx]['prompt'])\n",
    "print('#'*70)\n",
    "print('## chosen ##')\n",
    "print(train_data[idx]['chosen'])\n",
    "print('#'*70)\n",
    "print('## rejected ##')\n",
    "print(train_data[idx]['rejected'])"
   ]
  },
  {
   "cell_type": "markdown",
   "id": "a9cf7d98",
   "metadata": {},
   "source": [
    "RM을 학습해보기"
   ]
  },
  {
   "cell_type": "code",
   "execution_count": null,
   "id": "f60f7a00",
   "metadata": {},
   "outputs": [],
   "source": [
    "trainer = RewardModelTrainer(model=model,\n",
    "                             strategy=NaiveStrategy(),\n",
    "                             optim=Adam(model.parameters(), lr=5e-5),\n",
    "                             train_dataset=train_dataset,\n",
    "                             eval_dataset=eval_dataset,\n",
    "                             batch_size=4,\n",
    "                             max_epochs=1)"
   ]
  },
  {
   "cell_type": "code",
   "execution_count": null,
   "id": "efd6c5c7",
   "metadata": {},
   "outputs": [],
   "source": [
    "trainer.fit(use_lora=0)\n",
    "\n",
    "model.save_pretrained('aiffel/KoChatGPT/output_2_RM')"
   ]
  },
  {
   "cell_type": "markdown",
   "id": "0e67595a",
   "metadata": {},
   "source": [
    "학습이 잘 되어 있는지 확인해보기"
   ]
  },
  {
   "cell_type": "code",
   "execution_count": null,
   "id": "f0eaa610",
   "metadata": {},
   "outputs": [],
   "source": [
    "def inference_RM(input_text):\n",
    "    input_ids = tokenizer.encode(input_text, return_tensors='pt').to(\n",
    "        torch.cuda.current_device())\n",
    "    output = model(input_ids)\n",
    "    output_reward = output.cpu().detach().numpy()[0]\n",
    "\n",
    "    print('input: %s\\nreward score: %.1f'%(input_text, output_reward))\n",
    "\n",
    "    return output_reward\n",
    "\n",
    "input_text = '인공지능은 똥멍청이 입니다'\n",
    "output_reward = inference_RM(input_text=input_text)"
   ]
  },
  {
   "cell_type": "code",
   "execution_count": null,
   "id": "3d09120e",
   "metadata": {},
   "outputs": [],
   "source": [
    "input_text = '인공지능(AI)은 컴퓨터에서 음성 및 작성된 언어를 보고 이해하고 번역하고 데이터를 분석하고 추천하는 기능을 포함하여 다양한 고급 기능을 수행할 수 있는 일련의 기술입니다.'\n",
    "\n",
    "output_reward = inference_RM(input_text=input_text)"
   ]
  },
  {
   "cell_type": "code",
   "execution_count": null,
   "id": "af93ac62",
   "metadata": {},
   "outputs": [],
   "source": [
    "input_text = '인공지능(AI)은 컴퓨터에서 음성 및 작성된 언어를 보고 이해하고 번역하고 데이터를 분석하고 추천하는 기능을 포함하여 다양한 고급 기능을 수행할 수 있는 일련의 기술입니다.'\n",
    "\n",
    "output_reward = inference_RM(input_text=input_text)"
   ]
  },
  {
   "cell_type": "code",
   "execution_count": null,
   "id": "99ebcd63",
   "metadata": {},
   "outputs": [],
   "source": [
    "input_text = \"인공지능은 일반적으로 인간의 지능이 필요하거나 인간이 분석할 수 있는 것보다 규모가 큰 데이터를 포함하는 방식으로 추론, 학습 및 행동할 수 있는 컴퓨터 및 기계를 구축하는 것과 관련된 과학 분야입니다. AI는 컴퓨터 공학, 데이터 분석 및 통계, 하드웨어 및 소프트웨어 엔지니어링, 언어학, 신경 과학은 물론 철학과 심리학을 포함하여 여러 학문을 포괄하는 광범위한 분야입니다. 비즈니스의 운영 수준에서 AI는 주로 머신러닝과 딥 러닝을 기반으로 하는 기술 모음으로, 데이터 분석, 예상 및 예측, 객체 분류, 자연어 처리, 추천, 지능형 데이터 가져오기 등을 수행할 수 있습니다.\"\n",
    "\n",
    "output_reward = inference_RM(input_text=input_text)"
   ]
  },
  {
   "cell_type": "markdown",
   "id": "bf818270",
   "metadata": {},
   "source": [
    " 메모리 관리를 위해 한 번더 캐시를 비우기"
   ]
  },
  {
   "cell_type": "code",
   "execution_count": null,
   "id": "f714fdb3",
   "metadata": {},
   "outputs": [],
   "source": [
    "torch.cuda.empty_cache()"
   ]
  },
  {
   "cell_type": "markdown",
   "id": "d1fc2975",
   "metadata": {},
   "source": [
    "# Proximal Policy Optimization\n",
    "RLHF의 마지막 세번째 단계인 PPO를 실습"
   ]
  },
  {
   "cell_type": "code",
   "execution_count": null,
   "id": "6b3a090d",
   "metadata": {},
   "outputs": [],
   "source": [
    "from copy import deepcopy\n",
    "\n",
    "import torch\n",
    "from torch.optim import Adam\n",
    "from chatgpt.models.base import RewardModel\n",
    "from chatgpt.models.gpt import GPTActor, GPTCritic\n",
    "from chatgpt.trainer import PPOTrainer\n",
    "from chatgpt.trainer.strategies import NaiveStrategy\n",
    "from transformers import AutoTokenizer"
   ]
  },
  {
   "cell_type": "code",
   "execution_count": null,
   "id": "51edbbb3",
   "metadata": {},
   "outputs": [],
   "source": [
    "with NaiveStrategy().model_init_context():\n",
    "    actor = GPTActor(pretrained='/aiffel/KoChatGPT/output_1_SFT', lora_rank=0).to(torch.cuda.current_device())\n",
    "    critic = GPTCritic(pretrained='aiffel/KoChatGPT/output_2_RM', lora_rank=0).to(torch.cuda.current_device())\n",
    "\n",
    "    tokenizer = AutoTokenizer.from_pretrained(\n",
    "        'skt/kogpt2-base-v2', bos_token='</s>', eos_token='</s>', unk_token='</s>', pad_token='</s>',\n",
    "        padding_side=\"right\", \n",
    "        model_max_length=512\n",
    "    )\n",
    "\n",
    "    initial_model = deepcopy(actor)\n",
    "    reward_model = RewardModel(deepcopy(critic.model), deepcopy(critic.value_head)).to(torch.cuda.current_device())"
   ]
  },
  {
   "cell_type": "markdown",
   "id": "9538676f",
   "metadata": {},
   "source": [
    "모델학습에 사용할 옵티마이저와 모델을 준비"
   ]
  },
  {
   "cell_type": "code",
   "execution_count": null,
   "id": "5073007d",
   "metadata": {},
   "outputs": [],
   "source": [
    "actor_optim = Adam(actor.parameters(), lr=5e-6)\n",
    "critic_optim = Adam(critic.parameters(), lr=5e-6)"
   ]
  },
  {
   "cell_type": "code",
   "execution_count": null,
   "id": "d698e4c7",
   "metadata": {},
   "outputs": [],
   "source": [
    "(actor, actor_optim), (critic, critic_optim), reward_model, initial_model = NaiveStrategy().prepare(\n",
    "    (actor, actor_optim), (critic, critic_optim), reward_model, initial_model)"
   ]
  },
  {
   "cell_type": "markdown",
   "id": "e1a9591b",
   "metadata": {},
   "source": [
    "PPO 학습에 쓸 데이터를 불러와 토크나이징"
   ]
  },
  {
   "cell_type": "code",
   "execution_count": null,
   "id": "b21dd043",
   "metadata": {},
   "outputs": [],
   "source": [
    "with open('/aiffel/KoChatGPT/data_kochatgpt/kochatgpt_3_PPO.jsonl', \"r\", encoding='utf-8-sig') as json_file:\n",
    "    list_data_dict = json.load(json_file)\n",
    "    list_prompt = [tmp['prompt'] for tmp in list_data_dict]\n",
    "\n",
    "def tokenize_fn(texts):\n",
    "    batch = tokenizer(texts, return_tensors='pt', max_length=96, padding=True, truncation=True)\n",
    "    return {k: v.cuda() for k, v in batch.items()}"
   ]
  },
  {
   "cell_type": "code",
   "execution_count": null,
   "id": "3749a95a",
   "metadata": {},
   "outputs": [],
   "source": [
    "print(tokenize_fn('It takes something more than intelligence to act intelligently.'))"
   ]
  },
  {
   "cell_type": "code",
   "execution_count": null,
   "id": "d5360d6f",
   "metadata": {},
   "outputs": [],
   "source": [
    "print(tokenize_fn('It takes something more than intelligence to act intelligently.'))"
   ]
  },
  {
   "cell_type": "markdown",
   "id": "6d77818e",
   "metadata": {},
   "source": [
    "PPO는 별도의 PPOTrainer 클래스를 설계하여 학습시켜줘야 한다"
   ]
  },
  {
   "cell_type": "code",
   "execution_count": null,
   "id": "d416ab66",
   "metadata": {},
   "outputs": [],
   "source": [
    "trainer = PPOTrainer(NaiveStrategy(),\n",
    "                     actor,\n",
    "                     critic,\n",
    "                     reward_model,\n",
    "                     initial_model,\n",
    "                     actor_optim,\n",
    "                     critic_optim,\n",
    "                     max_epochs=1,  \n",
    "                     train_batch_size=8, \n",
    "                     tokenizer=tokenize_fn,\n",
    "                     max_length=128,\n",
    "                     do_sample=True,\n",
    "                     temperature=1.0,\n",
    "                     top_k=50,\n",
    "                     pad_token_id=tokenizer.pad_token_id,\n",
    "                     eos_token_id=tokenizer.eos_token_id)"
   ]
  },
  {
   "cell_type": "markdown",
   "id": "d90ecdc5",
   "metadata": {},
   "source": [
    "PPO 학습을 진행"
   ]
  },
  {
   "cell_type": "code",
   "execution_count": null,
   "id": "f5312057",
   "metadata": {},
   "outputs": [],
   "source": [
    "trainer.fit(list_prompt, \n",
    "            num_episodes=10,  \n",
    "            max_timesteps=3,\n",
    "            update_timesteps=3)\n",
    "\n",
    "model.save_pretrained('aiffel/KoChatGPT/output_3_PPO')"
   ]
  },
  {
   "cell_type": "markdown",
   "id": "8cc2d3f4",
   "metadata": {},
   "source": [
    "RLHF가 적용된 koGPT-2의 생성능력을 확인"
   ]
  },
  {
   "cell_type": "code",
   "execution_count": null,
   "id": "643f764f",
   "metadata": {},
   "outputs": [],
   "source": [
    "def generation(input_text):\n",
    "    input_ids = tokenizer.encode(input_text, return_tensors='pt').to(\n",
    "        torch.cuda.current_device())\n",
    "    outputs = actor.generate(input_ids,\n",
    "                             max_length=250,\n",
    "                             do_sample=True,\n",
    "                             top_k=50,\n",
    "                             top_p=0.95,\n",
    "                             num_return_sequences=1)\n",
    "    output = tokenizer.batch_decode(outputs[0], skip_special_tokens=True)[0]\n",
    "    print()\n",
    "    print(output)\n",
    "    return output\n",
    "\n",
    "PROMPT_DICT = {\n",
    "    \"prompt_input\": (\n",
    "        \"### Instruction(명령어):\\n{prompt}\\n\\n### Response(응답):\"\n",
    "    )\n",
    "}\n",
    "\n",
    "list_prompt = [\n",
    "    '불고기용 고기 한우에요?', \n",
    "    '리처드 닉슨이 43대 부통령직을 수행한 년도는?', \n",
    "    '시카고 오헤어 국제공항은 어디에 있어',\n",
    "    '오늘 미세먼지 어때?']\n",
    "\n",
    "list_prompt = [PROMPT_DICT['prompt_input'].format_map({'prompt': tmp}) for tmp in list_prompt]\n",
    "\n",
    "for input_text in list_prompt:\n",
    "    output = generation(input_text)"
   ]
  }
 ],
 "metadata": {
  "kernelspec": {
   "display_name": "Python 3 (ipykernel)",
   "language": "python",
   "name": "python3"
  },
  "language_info": {
   "codemirror_mode": {
    "name": "ipython",
    "version": 3
   },
   "file_extension": ".py",
   "mimetype": "text/x-python",
   "name": "python",
   "nbconvert_exporter": "python",
   "pygments_lexer": "ipython3",
   "version": "3.9.7"
  }
 },
 "nbformat": 4,
 "nbformat_minor": 5
}

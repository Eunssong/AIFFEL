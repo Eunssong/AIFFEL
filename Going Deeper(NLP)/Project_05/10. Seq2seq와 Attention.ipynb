{
 "cells": [
  {
   "cell_type": "markdown",
   "id": "f99d7dcd",
   "metadata": {},
   "source": [
    "## Sequence to Sequence 구현\n",
    "\n",
    "**언어 모델(Language Model)**이란,   \n",
    "주어진 단어들을 보고 다음 단어를 맞추는 모델 \n",
    "-> 단어의 시퀀스를 보고 다음 단어에 확률을 할당하는 모델\n",
    "\n",
    "\n",
    "**Sequence to Sequence Learning with Neural Networks**  \n",
    "https://proceedings.neurips.cc/paper_files/paper/2014/file/a14ac55a4f27472c5d894ec1c3c743d2-Paper.pdf  \n",
    "\n",
    "\n",
    "### LSTM Encoder\n",
    "- 데이터를 직접 다루기 보다 차원 수를 확인하는 실습\n",
    "- 입력으로 Embedding된 단어만 전달"
   ]
  },
  {
   "cell_type": "code",
   "execution_count": 1,
   "id": "8e173b9f",
   "metadata": {},
   "outputs": [],
   "source": [
    "import tensorflow as tf\n",
    "\n",
    "class Encoder(tf.keras.Model):\n",
    "    def __init__(self, vocab_size, embedding_dim, enc_units):\n",
    "        super(Encoder, self).__init__()\n",
    "        self.embedding = tf.keras.layers.Embedding(vocab_size, embedding_dim)\n",
    "        self.lstm = tf.keras.layers.LSTM(enc_units) # return_sequences 매개변수를 기본값 False로 전달\n",
    "\n",
    "    def call(self, x):\n",
    "        print(\"입력 Shape:\", x.shape)\n",
    "\n",
    "        x = self.embedding(x)\n",
    "        print(\"Embedding Layer를 거친 Shape:\", x.shape)\n",
    "\n",
    "        output = self.lstm(x)\n",
    "        print(\"LSTM Layer의 Output Shape:\", output.shape)\n",
    "\n",
    "        return output"
   ]
  },
  {
   "cell_type": "markdown",
   "id": "0b941bae",
   "metadata": {},
   "source": [
    "- Embedding 레이어를 단어 사이즈와 Embedding 차원에 대해 선언을 한 후, 논문에서 소개한 대로 tf.keras.layers.LSTM(enc_units)으로 LSTM을 정의\n",
    "- Tensorflow의 LSTM 모듈의 기본 반환값은 최종 state 값이므로, 우리가 정의해 준 Encoder 클래스의 반환 값이 곧 컨텍스트 벡터(Context Vector) 가 됨"
   ]
  },
  {
   "cell_type": "code",
   "execution_count": 2,
   "id": "2b91b2f3",
   "metadata": {},
   "outputs": [
    {
     "name": "stdout",
     "output_type": "stream",
     "text": [
      "Vocab Size: 30000\n",
      "Embedidng Size: 256\n",
      "LSTM Size: 512\n",
      "Batch Size: 1\n",
      "Sample Sequence Length: 3\n",
      "\n"
     ]
    }
   ],
   "source": [
    "vocab_size = 30000\n",
    "emb_size = 256\n",
    "lstm_size = 512\n",
    "batch_size = 1\n",
    "sample_seq_len = 3\n",
    "\n",
    "print(\"Vocab Size: {0}\".format(vocab_size))\n",
    "print(\"Embedidng Size: {0}\".format(emb_size))\n",
    "print(\"LSTM Size: {0}\".format(lstm_size))\n",
    "print(\"Batch Size: {0}\".format(batch_size))\n",
    "print(\"Sample Sequence Length: {0}\\n\".format(sample_seq_len))"
   ]
  },
  {
   "cell_type": "code",
   "execution_count": 3,
   "id": "d2a25daf",
   "metadata": {},
   "outputs": [
    {
     "name": "stdout",
     "output_type": "stream",
     "text": [
      "입력 Shape: (1, 3)\n",
      "Embedding Layer를 거친 Shape: (1, 3, 256)\n",
      "LSTM Layer의 Output Shape: (1, 512)\n"
     ]
    }
   ],
   "source": [
    "encoder = Encoder(vocab_size, emb_size, lstm_size)\n",
    "sample_input = tf.zeros((batch_size, sample_seq_len))\n",
    "\n",
    "sample_output = encoder(sample_input)    # 컨텍스트 벡터로 사용할 인코더 LSTM의 최종 State값"
   ]
  },
  {
   "cell_type": "markdown",
   "id": "abe8352b",
   "metadata": {},
   "source": [
    "### LSTM Decoder"
   ]
  },
  {
   "cell_type": "code",
   "execution_count": 4,
   "id": "e5b82fb5",
   "metadata": {},
   "outputs": [],
   "source": [
    "# Encoder 구현에 사용된 변수들을 이어 사용함에 유의!\n",
    "\n",
    "class Decoder(tf.keras.Model):\n",
    "    def __init__(self, vocab_size, embedding_dim, dec_units):\n",
    "        super(Decoder, self).__init__()\n",
    "        self.embedding = tf.keras.layers.Embedding(vocab_size, embedding_dim)\n",
    "        self.lstm = tf.keras.layers.LSTM(dec_units,\n",
    "                                         return_sequences=True) # return_sequences 매개변수를 True로 설정\n",
    "        self.fc = tf.keras.layers.Dense(vocab_size)\n",
    "        self.softmax = tf.keras.layers.Softmax(axis=-1)\n",
    "\n",
    "    def call(self, x, context_v):  # 디코더의 입력 x와 인코더의 컨텍스트 벡터를 인자로 받는다. \n",
    "        print(\"입력 Shape:\", x.shape)\n",
    "\n",
    "        x = self.embedding(x)\n",
    "        print(\"Embedding Layer를 거친 Shape:\", x.shape)\n",
    "\n",
    "        context_v = tf.repeat(tf.expand_dims(context_v, axis=1),\n",
    "                              repeats=x.shape[1], axis=1)\n",
    "        x = tf.concat([x, context_v], axis=-1)  # 컨텍스트 벡터를 concat 해준다\n",
    "        print(\"Context Vector가 더해진 Shape:\", x.shape)\n",
    "\n",
    "        x = self.lstm(x)\n",
    "        print(\"LSTM Layer의 Output Shape:\", x.shape)\n",
    "\n",
    "        output = self.fc(x)\n",
    "        print(\"Decoder 최종 Output Shape:\", output.shape)\n",
    "\n",
    "        return self.softmax(output)"
   ]
  },
  {
   "cell_type": "markdown",
   "id": "4eb4c004",
   "metadata": {},
   "source": [
    "- Encoder와 구조적으로 유사하지만 결과물을 생성해야 하므로 Fully Connected 레이어가 추가되었음\n",
    "- 출력값을 확률 값으로 변환해주는 Softmax함수도 추가되었음\n",
    "- Decoder가 매 스텝 생성하는 출력은 우리가 원하는 번역 결과에 해당하므로 LSTM 레이어의 return_sequences 변수를 True로 설정하여 State 값이 아닌 Sequence 값을 출력으로 받습니다."
   ]
  },
  {
   "cell_type": "code",
   "execution_count": 5,
   "id": "f81d87e7",
   "metadata": {},
   "outputs": [
    {
     "name": "stdout",
     "output_type": "stream",
     "text": [
      "Vocab Size: 30000\n",
      "Embedidng Size: 256\n",
      "LSTM Size: 512\n",
      "Batch Size: 1\n",
      "Sample Sequence Length: 3\n",
      "\n"
     ]
    }
   ],
   "source": [
    "print(\"Vocab Size: {0}\".format(vocab_size))\n",
    "print(\"Embedidng Size: {0}\".format(emb_size))\n",
    "print(\"LSTM Size: {0}\".format(lstm_size))\n",
    "print(\"Batch Size: {0}\".format(batch_size))\n",
    "print(\"Sample Sequence Length: {0}\\n\".format(sample_seq_len))"
   ]
  },
  {
   "cell_type": "code",
   "execution_count": 6,
   "id": "873b9f0e",
   "metadata": {},
   "outputs": [
    {
     "name": "stdout",
     "output_type": "stream",
     "text": [
      "입력 Shape: (1, 3)\n",
      "Embedding Layer를 거친 Shape: (1, 3, 256)\n",
      "Context Vector가 더해진 Shape: (1, 3, 768)\n",
      "LSTM Layer의 Output Shape: (1, 3, 512)\n",
      "Decoder 최종 Output Shape: (1, 3, 30000)\n"
     ]
    }
   ],
   "source": [
    "decoder = Decoder(vocab_size, emb_size, lstm_size)\n",
    "sample_input = tf.zeros((batch_size, sample_seq_len))\n",
    "\n",
    "dec_output = decoder(sample_input, sample_output)  # Decoder.call(x, context_v) 을 호출"
   ]
  },
  {
   "attachments": {
    "image.png": {
     "image/png": "[encoded data removed]"
    }
   },
   "cell_type": "markdown",
   "id": "9c0b9b9a",
   "metadata": {},
   "source": [
    "![image.png](attachment:image.png)\n",
    "- Encoder가 생성한 컨텍스트 벡터 v 를 Embedding 레이어를 거친 y 값에 Concatnate하여 위 수식을 만족시킴\n",
    "- 즉, Seq2seq을 완성함"
   ]
  },
  {
   "cell_type": "markdown",
   "id": "788d7458",
   "metadata": {},
   "source": [
    "## Attention\n",
    "\n",
    "- Seq2Seq의 한계점을 극복하고 발전시키려는 시도의 대표적인 방법이 Attention 메커니즘\n",
    "\n",
    "### Bahdanau Attention\n",
    "- Seq2Seq의 컨텍스트 벡터가 고정된 길이로 정보를 압축하는 것이 손실을 야기한다\n",
    "- Encoder의 최종 State 값만을 사용하는 기존의 방식이 아닌, 매 스텝의 Hidden State를 활용해 컨텍스트 벡터를 구축하는 Attention 메커니즘을 제안"
   ]
  },
  {
   "cell_type": "code",
   "execution_count": 7,
   "id": "d2031463",
   "metadata": {
    "scrolled": true
   },
   "outputs": [
    {
     "name": "stdout",
     "output_type": "stream",
     "text": [
      "Hidden State를 100차원으로 Mapping\n",
      "\n",
      "[ H_encoder ] Shape: (1, 10, 512)\n",
      "[ W_encoder X H_encoder ] Shape: (1, 10, 100)\n",
      "\n",
      "[ H_decoder ] Shape: (1, 512)\n",
      "[ W_decoder X H_decoder ] Shape: (1, 1, 100)\n",
      "[ Score_alignment ] Shape: (1, 10, 1)\n",
      "\n",
      "최종 Weight:\n",
      " [[[0.09159105]\n",
      "  [0.08008362]\n",
      "  [0.04653067]\n",
      "  [0.07061282]\n",
      "  [0.09586233]\n",
      "  [0.11116278]\n",
      "  [0.1509214 ]\n",
      "  [0.08709237]\n",
      "  [0.14130373]\n",
      "  [0.12483916]]]\n"
     ]
    }
   ],
   "source": [
    "class BahdanauAttention(tf.keras.layers.Layer):\n",
    "    def __init__(self, units):\n",
    "        super(BahdanauAttention, self).__init__()\n",
    "        self.W_decoder = tf.keras.layers.Dense(units)\n",
    "        self.W_encoder = tf.keras.layers.Dense(units)\n",
    "        self.W_combine = tf.keras.layers.Dense(1)\n",
    "\n",
    "    def call(self, H_encoder, H_decoder):\n",
    "        print(\"[ H_encoder ] Shape:\", H_encoder.shape)\n",
    "\n",
    "        H_encoder = self.W_encoder(H_encoder)\n",
    "        print(\"[ W_encoder X H_encoder ] Shape:\", H_encoder.shape)\n",
    "\n",
    "        print(\"\\n[ H_decoder ] Shape:\", H_decoder.shape)\n",
    "        H_decoder = tf.expand_dims(H_decoder, 1)\n",
    "        H_decoder = self.W_decoder(H_decoder)\n",
    "\n",
    "        print(\"[ W_decoder X H_decoder ] Shape:\", H_decoder.shape)\n",
    "\n",
    "        score = self.W_combine(tf.nn.tanh(H_decoder + H_encoder))\n",
    "        print(\"[ Score_alignment ] Shape:\", score.shape)\n",
    "\n",
    "        attention_weights = tf.nn.softmax(score, axis=1)\n",
    "        print(\"\\n최종 Weight:\\n\", attention_weights.numpy())\n",
    "\n",
    "        context_vector = attention_weights * H_decoder\n",
    "        context_vector = tf.reduce_sum(context_vector, axis=1)\n",
    "\n",
    "        return context_vector, attention_weights\n",
    "\n",
    "W_size = 100\n",
    "\n",
    "print(\"Hidden State를 {0}차원으로 Mapping\\n\".format(W_size))\n",
    "\n",
    "attention = BahdanauAttention(W_size)\n",
    "\n",
    "enc_state = tf.random.uniform((1, 10, 512))\n",
    "dec_state = tf.random.uniform((1, 512))\n",
    "\n",
    "_ = attention(enc_state, dec_state)"
   ]
  },
  {
   "attachments": {
    "image.png": {
     "image/png": "[encoded data removed]"
    }
   },
   "cell_type": "markdown",
   "id": "ab5352de",
   "metadata": {},
   "source": [
    "- Encoder의 모든 스텝에 대한 Hidden State를 100차원의 벡터 공간으로 매핑 (1, 10, 100) 하고, Decoder의 현재 스텝에 대한 Hidden State 역시 100차원의 벡터 공간으로 매핑 (1, 1, 100)해 두 State의 합으로 정의된 Score (1, 10, 1) 를 구하는 모습\n",
    "- Softmax를 거쳐 나온 값은 0-1 사이의 값으로 각 단어가 차지하는 비중을 의미\n",
    "- 유사한 단어에 높은 비중을 할당하게 됨\n",
    "- 시각화하면 아래와 같은 그림을 볼 수 있음\n",
    "\n",
    "![image.png](attachment:image.png)\n",
    "[Attention Map]\n",
    "https://www.tensorflow.org/tutorials/text/nmt_with_attention?hl=ko"
   ]
  },
  {
   "attachments": {
    "image.png": {
     "image/png": "[encoded data removed]"
    }
   },
   "cell_type": "markdown",
   "id": "ec5f00da",
   "metadata": {},
   "source": [
    "### Luong Attention\n",
    "- Bahdanau의 방식을 약간 발전시킨 형태 \n",
    "- Hidden State Vector를 구하는 방식이 간소화\n",
    "- Local attention을 사용\n",
    "- Dot, General, Concat, Location 4가지 Score 함수를 제시\n",
    "- 이 중 General이 가장 합리적인 성능을 보임\n",
    "![image.png](attachment:image.png)"
   ]
  },
  {
   "cell_type": "code",
   "execution_count": 8,
   "id": "e0b0cbf2",
   "metadata": {},
   "outputs": [
    {
     "name": "stdout",
     "output_type": "stream",
     "text": [
      "[ H_encoder ] Shape: (1, 10, 512)\n",
      "[ W_encoder X H_encoder ] Shape: (1, 10, 512)\n",
      "[ Score_alignment ] Shape: (1, 10, 1)\n",
      "\n",
      "최종 Weight:\n",
      " [[[6.3338660e-04]\n",
      "  [3.6904425e-05]\n",
      "  [9.7413242e-01]\n",
      "  [1.8494813e-03]\n",
      "  [1.3767654e-02]\n",
      "  [7.2732004e-03]\n",
      "  [1.8730140e-06]\n",
      "  [2.2901129e-03]\n",
      "  [3.7112920e-06]\n",
      "  [1.1118009e-05]]]\n"
     ]
    }
   ],
   "source": [
    "class LuongAttention(tf.keras.layers.Layer):\n",
    "    def __init__(self, units):\n",
    "        super(LuongAttention, self).__init__()\n",
    "        self.W_combine = tf.keras.layers.Dense(units)\n",
    "\n",
    "    def call(self, H_encoder, H_decoder):\n",
    "        print(\"[ H_encoder ] Shape:\", H_encoder.shape)\n",
    "\n",
    "        WH = self.W_combine(H_encoder)\n",
    "        print(\"[ W_encoder X H_encoder ] Shape:\", WH.shape)\n",
    "\n",
    "        H_decoder = tf.expand_dims(H_decoder, 1)\n",
    "        alignment = tf.matmul(WH, tf.transpose(H_decoder, [0, 2, 1]))\n",
    "        print(\"[ Score_alignment ] Shape:\", alignment.shape)\n",
    "\n",
    "        attention_weights = tf.nn.softmax(alignment, axis=1)\n",
    "        print(\"\\n최종 Weight:\\n\", attention_weights.numpy())\n",
    "\n",
    "        attention_weights = tf.squeeze(attention_weights, axis=-1)\n",
    "        context_vector = tf.matmul(attention_weights, H_encoder)\n",
    "\n",
    "        return context_vector, attention_weights\n",
    "\n",
    "emb_dim = 512\n",
    "\n",
    "attention = LuongAttention(emb_dim)\n",
    "\n",
    "enc_state = tf.random.uniform((1, 10, emb_dim))\n",
    "dec_state = tf.random.uniform((1, emb_dim))\n",
    "\n",
    "_ = attention(enc_state, dec_state)"
   ]
  },
  {
   "cell_type": "markdown",
   "id": "f8abf977",
   "metadata": {},
   "source": [
    "- Bahdanau의 Score 함수와는 다르게 하나의 Weight만을 사용하는 것이 특징\n",
    "- 어떤 벡터 공간에 매핑해주는 과정이 없기 때문에 Weight의 크기는 단어 Embedding 크기와 동일해야 연산이 가능"
   ]
  },
  {
   "cell_type": "markdown",
   "id": "77e3e1ff",
   "metadata": {},
   "source": [
    "- Attention은 번역 모델에서 입력 문장의 단어와 출력 문장의 단어 사이의 매핑 관계를 찾아내는 메커니즘으로 이를 통해 입력 문장의 모든 단어를 고려하면서 출력 문장의 각 단어를 예측\n",
    "- 문장이 길어질수록 Attention계산에 필요한 계산량이 많아지고, 희소성 문제 등 다양한 문제점이 발생\n",
    "\n",
    "- Bahdanau Attention은 전체 입력 문장에 대한 정보를 고려하여 출력을 생성\n",
    "- Luong Attention은 현재 예측하려는 출력 단어와 관련된 입력 단어에만 집중하여 출력을 생성 \n",
    "- 둘 중 어떤 어텐션을 사용할지는 데이터와 모델의 성능에 따라 선택할 수 있음"
   ]
  }
 ],
 "metadata": {
  "kernelspec": {
   "display_name": "Python 3 (ipykernel)",
   "language": "python",
   "name": "python3"
  },
  "language_info": {
   "codemirror_mode": {
    "name": "ipython",
    "version": 3
   },
   "file_extension": ".py",
   "mimetype": "text/x-python",
   "name": "python",
   "nbconvert_exporter": "python",
   "pygments_lexer": "ipython3",
   "version": "3.9.7"
  }
 },
 "nbformat": 4,
 "nbformat_minor": 5
}
